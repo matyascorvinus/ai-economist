{
 "cells": [
  {
   "cell_type": "markdown",
   "metadata": {},
   "source": [
    "Copyright (c) 2021, salesforce.com, inc.  \n",
    "All rights reserved.  \n",
    "SPDX-License-Identifier: BSD-3-Clause  \n",
    "For full license text, see the LICENSE file in the repo root or https://opensource.org/licenses/BSD-3-Clause"
   ]
  },
  {
   "cell_type": "markdown",
   "metadata": {},
   "source": [
    "# This notebook will be used to gather real-world data and perform data processing in order to use it in the covid-19 simulation.\n",
    "\n",
    "### All the downloaded data will be formatted into pandas dataframes."
   ]
  },
  {
   "cell_type": "markdown",
   "metadata": {},
   "source": [
    "## Below is the list of COVID-19 data sources used in this notebook\n",
    "\n",
    "1. **US state government policies** (Oxford Covid-19 Government Response Tracker (OxCGRT))\n",
    "\n",
    "    https://github.com/OxCGRT/USA-covid-policy\n",
    "\n",
    "\n",
    "2. **US federal government direct payments** (Committee for a Responsible Federal Budget)\n",
    "\n",
    "    https://www.covidmoneytracker.org/\n",
    "    \n",
    "    https://docs.google.com/spreadsheets/d/1Nr_J5wLfUT4IzqSXkYbdOXrRgEkBxhX0/edit#gid=682404301\n",
    "    \n",
    "\n",
    "3. **US deaths data** (COVID-19 Data Repository by the Center for Systems Science and Engineering (CSSE) at Johns Hopkins University)\n",
    "\n",
    "    https://github.com/CSSEGISandData/COVID-19\n",
    "\n",
    "\n",
    "4. **US vaccinations** (Our World in Data)\n",
    "    \n",
    "    https://ourworldindata.org/covid-vaccinations\n",
    "    \n",
    "    \n",
    "5. **US unemployment** (Bureau of Labor and Statistics)\n",
    "\n",
    "    https://www.bls.gov/lau/"
   ]
  },
  {
   "cell_type": "markdown",
   "metadata": {},
   "source": [
    "### Dependencies"
   ]
  },
  {
   "cell_type": "code",
   "execution_count": 1,
   "metadata": {},
   "outputs": [],
   "source": [
    "from datetime import datetime, timedelta\n",
    "import json\n",
    "import matplotlib.pyplot as plt\n",
    "import numpy as np\n",
    "import os\n",
    "import pandas as pd\n",
    "import pickle\n",
    "import scipy\n",
    "from scipy.signal import convolve"
   ]
  },
  {
   "cell_type": "markdown",
   "metadata": {},
   "source": [
    "### Classes to fetch the real-world data"
   ]
  },
  {
   "cell_type": "code",
   "execution_count": 2,
   "metadata": {},
   "outputs": [
    {
     "name": "stdout",
     "output_type": "stream",
     "text": [
      "Inside covid19_components.py: 1 GPUs are available.\n",
      "Inside covid19_env.py: 1 GPUs are available.\n"
     ]
    }
   ],
   "source": [
    "from ai_economist.datasets.covid19_datasets.us_policies import DatasetCovidPoliciesUS\n",
    "from ai_economist.datasets.covid19_datasets.us_deaths import DatasetCovidDeathsUS\n",
    "from ai_economist.datasets.covid19_datasets.us_vaccinations import DatasetCovidVaccinationsUS\n",
    "from ai_economist.datasets.covid19_datasets.us_unemployment import DatasetCovidUnemploymentUS"
   ]
  },
  {
   "cell_type": "markdown",
   "metadata": {},
   "source": [
    "### Set a base directory where you would like to download real world data. The latest data will be downloaded into a folder within the base directory, named using the current date"
   ]
  },
  {
   "cell_type": "code",
   "execution_count": 3,
   "metadata": {},
   "outputs": [],
   "source": [
    "current_directory = os.getcwd()\n",
    "BASE_DATA_DIR_PATH = current_directory"
   ]
  },
  {
   "cell_type": "code",
   "execution_count": 4,
   "metadata": {},
   "outputs": [
    {
     "name": "stdout",
     "output_type": "stream",
     "text": [
      "All the data will be downloaded to the directory: '/home/dominus/ai-economist/ai_economist/datasets/covid19_datasets/2025-05-31'.\n"
     ]
    }
   ],
   "source": [
    "DOWNLOAD_LATEST_DATA = True  # Download the latest data or use whatever is saved earlier \n",
    "CURRENT_DATE = datetime.now()\n",
    "DATE_FORMAT = \"%Y-%m-%d\"\n",
    "date_string = CURRENT_DATE.strftime(DATE_FORMAT).replace('/','-')\n",
    "data_dir = os.path.join(BASE_DATA_DIR_PATH, date_string)\n",
    "\n",
    "print(\"All the data will be downloaded to the directory: '{}'.\".format(data_dir))"
   ]
  },
  {
   "cell_type": "code",
   "execution_count": 5,
   "metadata": {},
   "outputs": [],
   "source": [
    "# Set up dictionary to write model constants\n",
    "model_constants = {}\n",
    "model_constants_filename = \"model_constants.json\""
   ]
  },
  {
   "cell_type": "markdown",
   "metadata": {},
   "source": [
    "# Gather real-world data"
   ]
  },
  {
   "cell_type": "markdown",
   "metadata": {},
   "source": [
    "# 1. COVID-19 US State Government Policies\n",
    "### Source: Oxford Covid-19 Government Response Tracker (OxCGRT) \n",
    "(https://github.com/OxCGRT/USA-covid-policy)\n",
    "\n",
    "**NOTE:** All data will use the same format as **policy_df** (below) and use the same date index"
   ]
  },
  {
   "cell_type": "code",
   "execution_count": 6,
   "metadata": {},
   "outputs": [
    {
     "name": "stdout",
     "output_type": "stream",
     "text": [
      "Fetching latest U.S. COVID-19 policies data from OxCGRT, and saving it in /home/dominus/ai-economist/ai_economist/datasets/covid19_datasets/2025-05-31\n",
      "Policy data are available between 2020-01-01 00:00:00 and 2022-12-31 00:00:00\n"
     ]
    }
   ],
   "source": [
    "covid_policies_us = DatasetCovidPoliciesUS(\n",
    "    data_dir=data_dir,\n",
    "    download_latest_data=DOWNLOAD_LATEST_DATA\n",
    ")\n",
    "\n",
    "# Which of the policy indicators to treat as the open/close level\n",
    "STRINGENCY_POLICY_KEY = 'StringencyIndex'\n",
    "# Number of levels to discretize the stringency policy into. \n",
    "# In the context of reinforcement learning, this also determines the action space of the agents.\n",
    "NUM_STRINGENCY_LEVELS = 10\n",
    "\n",
    "policies_us_df = covid_policies_us.process_policy_data(\n",
    "    stringency_policy_key=STRINGENCY_POLICY_KEY,\n",
    "    num_stringency_levels=NUM_STRINGENCY_LEVELS\n",
    ")\n",
    "\n",
    "print(\"Policy data are available between {} and {}\".format(policies_us_df[\"Date\"].min(), \n",
    "                                                           policies_us_df[\"Date\"].max()))\n",
    "\n",
    "policy_df = policies_us_df.pivot(\n",
    "    index=\"Date\", columns=\"RegionName\", values=STRINGENCY_POLICY_KEY\n",
    ")"
   ]
  },
  {
   "cell_type": "code",
   "execution_count": 7,
   "metadata": {},
   "outputs": [],
   "source": [
    "# This is the common date index that all the dataframes will use\n",
    "COMMON_DATE_INDEX = policy_df.index"
   ]
  },
  {
   "cell_type": "code",
   "execution_count": 8,
   "metadata": {},
   "outputs": [
    {
     "name": "stdout",
     "output_type": "stream",
     "text": [
      "1096\n"
     ]
    }
   ],
   "source": [
    "print(len(COMMON_DATE_INDEX))"
   ]
  },
  {
   "cell_type": "code",
   "execution_count": 9,
   "metadata": {},
   "outputs": [],
   "source": [
    "# This is the list of states (in order) all the dataframes will use\n",
    "US_STATE_ORDER = policy_df.columns.values"
   ]
  },
  {
   "cell_type": "code",
   "execution_count": 10,
   "metadata": {},
   "outputs": [
    {
     "data": {
      "image/png": "[encoded data removed]",
      "text/plain": [
       "<Figure size 1080x360 with 1 Axes>"
      ]
     },
     "metadata": {
      "needs_background": "light"
     },
     "output_type": "display_data"
    }
   ],
   "source": [
    "# Visualize the stringency level for a specified US state\n",
    "state = \"California\"\n",
    "policy_df[state].plot(figsize=(15,5), x='Date', title=\"Stringency Level for {}\".format(state), grid=True);"
   ]
  },
  {
   "cell_type": "markdown",
   "metadata": {},
   "source": [
    "# 2. COVID-19 Federal government subsidies (direct payments) to the states\n",
    "### Source: Committee For A Responsible Federal Budget\n",
    "https://www.covidmoneytracker.org/\n",
    "\n",
    "### Direct payments provided by the Federal Government so far are recorded in this google spreadsheet\n",
    "https://docs.google.com/spreadsheets/d/1Nr_J5wLfUT4IzqSXkYbdOXrRgEkBxhX0/edit#gid=682404301\n",
    "### Read as (date: direct payment amount)\n",
    "2020-04-15: 274B\n",
    "\n",
    "2020-12-27: 142B\n",
    "\n",
    "2021-03-11: 386B"
   ]
  },
  {
   "cell_type": "code",
   "execution_count": 11,
   "metadata": {},
   "outputs": [],
   "source": [
    "subsidy_df = pd.DataFrame(policy_df.index).set_index(\"Date\")\n",
    "subsidy_df[\"USA\"] = 0.0\n",
    "\n",
    "# This is just direct payment\n",
    "subsidy_df.loc[\"2020-04-15\", \"USA\"] = 274e9\n",
    "subsidy_df.loc[\"2020-12-27\", \"USA\"] = 142e9\n",
    "subsidy_df.loc[\"2021-03-11\", \"USA\"] = 386e9"
   ]
  },
  {
   "cell_type": "code",
   "execution_count": 12,
   "metadata": {},
   "outputs": [],
   "source": [
    "\n",
    "# These are all payment programs\n",
    "# subsidy_df.loc[\"2020-03-27\", \"USA\"] = 2594.319012 * 10 ** 9\n",
    "# subsidy_df.loc[\"2020-04-09\", \"USA\"] = 476.961463 * 10 ** 9\n",
    "# subsidy_df.loc[\"2020-04-15\", \"USA\"] = 273.921557 * 10 ** 9\n",
    "# subsidy_df.loc[\"2020-07-13\", \"USA\"] = 0.009 * 10 ** 9\n",
    "# subsidy_df.loc[\"2020-07-23\", \"USA\"] = 48.941446 * 10 ** 9\n",
    "# subsidy_df.loc[\"2020-08-14\", \"USA\"] = 20.000 * 10 ** 9\n",
    "# subsidy_df.loc[\"2020-09-13\", \"USA\"] = 202.300 * 10 ** 9\n",
    "# subsidy_df.loc[\"2020-12-27\", \"USA\"] = 375.592905 * 10 ** 9\n",
    "# subsidy_df.loc[\"2021-03-11\", \"USA\"] = 654.271913 * 10 ** 9\n"
   ]
  },
  {
   "cell_type": "code",
   "execution_count": 13,
   "metadata": {},
   "outputs": [],
   "source": [
    "inflation_df = pd.DataFrame(policy_df.index).set_index(\"Date\")\n",
    "inflation_df[\"USA\"] = 0.0\n",
    "\n",
    "\n",
    "# 2020 Data\n",
    "inflation_df.loc[\"2020-03-22\", \"USA\"] = 1.5\n",
    "inflation_df.loc[\"2020-04-01\", \"USA\"] = 0.3\n",
    "inflation_df.loc[\"2020-05-01\", \"USA\"] = 0.1\n",
    "inflation_df.loc[\"2020-06-01\", \"USA\"] = 0.6\n",
    "inflation_df.loc[\"2020-07-01\", \"USA\"] = 1.0\n",
    "inflation_df.loc[\"2020-08-01\", \"USA\"] = 1.3\n",
    "inflation_df.loc[\"2020-09-01\", \"USA\"] = 1.4\n",
    "inflation_df.loc[\"2020-10-01\", \"USA\"] = 1.2\n",
    "inflation_df.loc[\"2020-11-01\", \"USA\"] = 1.2\n",
    "inflation_df.loc[\"2020-12-01\", \"USA\"] = 1.4\n",
    "\n",
    "# 2021 Data\n",
    "inflation_df.loc[\"2021-01-01\", \"USA\"] = 1.4\n",
    "inflation_df.loc[\"2021-02-01\", \"USA\"] = 1.7\n",
    "inflation_df.loc[\"2021-03-01\", \"USA\"] = 2.6\n",
    "inflation_df.loc[\"2021-04-01\", \"USA\"] = 4.2\n",
    "inflation_df.loc[\"2021-05-01\", \"USA\"] = 5.0\n",
    "inflation_df.loc[\"2021-06-01\", \"USA\"] = 5.4\n",
    "inflation_df.loc[\"2021-07-01\", \"USA\"] = 5.4\n",
    "inflation_df.loc[\"2021-08-01\", \"USA\"] = 5.3\n",
    "inflation_df.loc[\"2021-09-01\", \"USA\"] = 5.4\n",
    "inflation_df.loc[\"2021-10-01\", \"USA\"] = 6.2\n",
    "inflation_df.loc[\"2021-11-01\", \"USA\"] = 6.8\n",
    "inflation_df.loc[\"2021-12-01\", \"USA\"] = 7.0\n",
    "\n",
    "# 2022 Data\n",
    "inflation_df.loc[\"2022-01-01\", \"USA\"] = 7.5\n",
    "inflation_df.loc[\"2022-02-01\", \"USA\"] = 7.9\n",
    "inflation_df.loc[\"2022-03-01\", \"USA\"] = 8.5\n",
    "inflation_df.loc[\"2022-04-01\", \"USA\"] = 8.3\n",
    "inflation_df.loc[\"2022-05-01\", \"USA\"] = 8.6\n",
    "inflation_df.loc[\"2022-06-01\", \"USA\"] = 9.1\n",
    "inflation_df.loc[\"2022-07-01\", \"USA\"] = 8.5\n",
    "inflation_df.loc[\"2022-08-01\", \"USA\"] = 8.3\n",
    "inflation_df.loc[\"2022-09-01\", \"USA\"] = 8.2\n",
    "inflation_df.loc[\"2022-10-01\", \"USA\"] = 7.7\n",
    "inflation_df.loc[\"2022-11-01\", \"USA\"] = 7.1\n",
    "inflation_df.loc[\"2022-12-01\", \"USA\"] = 6.5"
   ]
  },
  {
   "cell_type": "code",
   "execution_count": 14,
   "metadata": {},
   "outputs": [],
   "source": [
    "# https://www.federalreserve.gov/monetarypolicy/bst_recenttrends_accessible.htm\n",
    "quantitative_df = pd.DataFrame(policy_df.index).set_index(\"Date\")\n",
    "quantitative_df[\"USA\"] = 0.0\n",
    "\n",
    "quantitative_df.loc[\"2020-03-22\", \"USA\"] = 5254278\n",
    "quantitative_df.loc[\"2020-04-01\", \"USA\"] = 5811607\n",
    "quantitative_df.loc[\"2020-04-08\", \"USA\"] = 6083141\n",
    "quantitative_df.loc[\"2020-04-15\", \"USA\"] = 6367887\n",
    "quantitative_df.loc[\"2020-04-22\", \"USA\"] = 6573136\n",
    "quantitative_df.loc[\"2020-04-29\", \"USA\"] = 6655929\n",
    "quantitative_df.loc[\"2020-05-06\", \"USA\"] = 6721420\n",
    "quantitative_df.loc[\"2020-05-13\", \"USA\"] = 6934227\n",
    "quantitative_df.loc[\"2020-05-20\", \"USA\"] = 7037258\n",
    "quantitative_df.loc[\"2020-05-27\", \"USA\"] = 7097316\n",
    "quantitative_df.loc[\"2020-06-03\", \"USA\"] = 7165217\n",
    "quantitative_df.loc[\"2020-06-10\", \"USA\"] = 7168936\n",
    "quantitative_df.loc[\"2020-06-17\", \"USA\"] = 7094690\n",
    "quantitative_df.loc[\"2020-06-24\", \"USA\"] = 7082302\n",
    "quantitative_df.loc[\"2020-07-01\", \"USA\"] = 7009040\n",
    "quantitative_df.loc[\"2020-07-08\", \"USA\"] = 6920716\n",
    "quantitative_df.loc[\"2020-07-15\", \"USA\"] = 6958604\n",
    "quantitative_df.loc[\"2020-07-22\", \"USA\"] = 6964755\n",
    "quantitative_df.loc[\"2020-07-29\", \"USA\"] = 6949032\n",
    "quantitative_df.loc[\"2020-08-05\", \"USA\"] = 6945237\n",
    "quantitative_df.loc[\"2020-08-12\", \"USA\"] = 6957277\n",
    "quantitative_df.loc[\"2020-08-19\", \"USA\"] = 7010637\n",
    "quantitative_df.loc[\"2020-08-26\", \"USA\"] = 6990418\n",
    "quantitative_df.loc[\"2020-09-02\", \"USA\"] = 7017492\n",
    "quantitative_df.loc[\"2020-09-09\", \"USA\"] = 7010614\n",
    "quantitative_df.loc[\"2020-09-16\", \"USA\"] = 7064475\n",
    "quantitative_df.loc[\"2020-09-23\", \"USA\"] = 7093161\n",
    "quantitative_df.loc[\"2020-09-30\", \"USA\"] = 7056129\n",
    "quantitative_df.loc[\"2020-10-07\", \"USA\"] = 7074649\n",
    "quantitative_df.loc[\"2020-10-14\", \"USA\"] = 7151426\n",
    "quantitative_df.loc[\"2020-10-21\", \"USA\"] = 7177265\n",
    "quantitative_df.loc[\"2020-10-28\", \"USA\"] = 7146306\n",
    "quantitative_df.loc[\"2020-11-04\", \"USA\"] = 7157479\n",
    "quantitative_df.loc[\"2020-11-11\", \"USA\"] = 7175417\n",
    "quantitative_df.loc[\"2020-11-18\", \"USA\"] = 7243080\n",
    "quantitative_df.loc[\"2020-11-25\", \"USA\"] = 7216480\n",
    "quantitative_df.loc[\"2020-12-02\", \"USA\"] = 7222414\n",
    "quantitative_df.loc[\"2020-12-09\", \"USA\"] = 7242658\n",
    "quantitative_df.loc[\"2020-12-16\", \"USA\"] = 7362592\n",
    "quantitative_df.loc[\"2020-12-23\", \"USA\"] = 7404039\n",
    "quantitative_df.loc[\"2020-12-30\", \"USA\"] = 7363351\n",
    "quantitative_df.loc[\"2021-01-06\", \"USA\"] = 7334809\n",
    "quantitative_df.loc[\"2021-01-13\", \"USA\"] = 7333968\n",
    "quantitative_df.loc[\"2021-01-20\", \"USA\"] = 7414942\n",
    "quantitative_df.loc[\"2021-01-27\", \"USA\"] = 7404926\n",
    "quantitative_df.loc[\"2021-02-03\", \"USA\"] = 7410598\n",
    "quantitative_df.loc[\"2021-02-10\", \"USA\"] = 7442225\n",
    "quantitative_df.loc[\"2021-02-17\", \"USA\"] = 7557402\n",
    "quantitative_df.loc[\"2021-02-24\", \"USA\"] = 7590111\n",
    "quantitative_df.loc[\"2021-03-03\", \"USA\"] = 7557524\n",
    "quantitative_df.loc[\"2021-03-10\", \"USA\"] = 7579901\n",
    "quantitative_df.loc[\"2021-03-17\", \"USA\"] = 7693506\n",
    "quantitative_df.loc[\"2021-03-24\", \"USA\"] = 7719622\n",
    "quantitative_df.loc[\"2021-03-31\", \"USA\"] = 7688988\n",
    "quantitative_df.loc[\"2021-04-07\", \"USA\"] = 7708882\n",
    "quantitative_df.loc[\"2021-04-14\", \"USA\"] = 7793104\n",
    "quantitative_df.loc[\"2021-04-21\", \"USA\"] = 7820948\n",
    "quantitative_df.loc[\"2021-04-28\", \"USA\"] = 7780962\n",
    "quantitative_df.loc[\"2021-05-05\", \"USA\"] = 7810486\n",
    "quantitative_df.loc[\"2021-05-12\", \"USA\"] = 7830663\n",
    "quantitative_df.loc[\"2021-05-19\", \"USA\"] = 7922883\n",
    "quantitative_df.loc[\"2021-05-26\", \"USA\"] = 7903541\n",
    "quantitative_df.loc[\"2021-06-02\", \"USA\"] = 7935703\n",
    "quantitative_df.loc[\"2021-06-09\", \"USA\"] = 7952327\n",
    "quantitative_df.loc[\"2021-06-16\", \"USA\"] = 8064257\n",
    "quantitative_df.loc[\"2021-06-23\", \"USA\"] = 8101945\n",
    "quantitative_df.loc[\"2021-06-30\", \"USA\"] = 8078544\n",
    "quantitative_df.loc[\"2021-07-07\", \"USA\"] = 8097773\n",
    "quantitative_df.loc[\"2021-07-14\", \"USA\"] = 8201651\n",
    "quantitative_df.loc[\"2021-07-21\", \"USA\"] = 8240530\n",
    "quantitative_df.loc[\"2021-07-28\", \"USA\"] = 8221473\n",
    "quantitative_df.loc[\"2021-08-04\", \"USA\"] = 8235073\n",
    "quantitative_df.loc[\"2021-08-11\", \"USA\"] = 8257159\n",
    "quantitative_df.loc[\"2021-08-18\", \"USA\"] = 8342598\n",
    "quantitative_df.loc[\"2021-08-25\", \"USA\"] = 8332743\n",
    "quantitative_df.loc[\"2021-09-01\", \"USA\"] = 8349173\n",
    "quantitative_df.loc[\"2021-09-08\", \"USA\"] = 8357314\n",
    "quantitative_df.loc[\"2021-09-15\", \"USA\"] = 8448770\n",
    "quantitative_df.loc[\"2021-09-22\", \"USA\"] = 8489824\n",
    "quantitative_df.loc[\"2021-09-29\", \"USA\"] = 8447981\n",
    "quantitative_df.loc[\"2021-10-06\", \"USA\"] = 8464032\n",
    "quantitative_df.loc[\"2021-10-13\", \"USA\"] = 8480942\n",
    "quantitative_df.loc[\"2021-10-20\", \"USA\"] = 8564943\n",
    "quantitative_df.loc[\"2021-10-27\", \"USA\"] = 8556181\n",
    "quantitative_df.loc[\"2021-11-03\", \"USA\"] = 8574871\n",
    "quantitative_df.loc[\"2021-11-10\", \"USA\"] = 8663117\n",
    "quantitative_df.loc[\"2021-11-17\", \"USA\"] = 8674970\n",
    "quantitative_df.loc[\"2021-11-24\", \"USA\"] = 8681771\n",
    "quantitative_df.loc[\"2021-12-01\", \"USA\"] = 8650402\n",
    "quantitative_df.loc[\"2021-12-08\", \"USA\"] = 8664524\n",
    "quantitative_df.loc[\"2021-12-15\", \"USA\"] = 8756666\n",
    "quantitative_df.loc[\"2021-12-22\", \"USA\"] = 8790495\n",
    "quantitative_df.loc[\"2021-12-29\", \"USA\"] = 8757460\n",
    "quantitative_df.loc[\"2022-01-05\", \"USA\"] = 8765721\n",
    "quantitative_df.loc[\"2022-01-12\", \"USA\"] = 8788278\n",
    "quantitative_df.loc[\"2022-01-19\", \"USA\"] = 8867834\n",
    "quantitative_df.loc[\"2022-01-26\", \"USA\"] = 8860485\n",
    "quantitative_df.loc[\"2022-01-26\", \"USA\"] = 8860485\n",
    "quantitative_df.loc[\"2022-02-02\", \"USA\"] = 8873211\n",
    "quantitative_df.loc[\"2022-02-09\", \"USA\"] = 8878009\n",
    "quantitative_df.loc[\"2022-02-16\", \"USA\"] = 8911033\n",
    "quantitative_df.loc[\"2022-02-23\", \"USA\"] = 8928129\n",
    "quantitative_df.loc[\"2022-03-02\", \"USA\"] = 8904455\n",
    "quantitative_df.loc[\"2022-03-09\", \"USA\"] = 8910748\n",
    "quantitative_df.loc[\"2022-03-16\", \"USA\"] = 8954306\n",
    "quantitative_df.loc[\"2022-03-22\", \"USA\"] = 8962474\n",
    "quantitative_df.loc[\"2022-03-30\", \"USA\"] = 8937142\n",
    "quantitative_df.loc[\"2022-04-06\", \"USA\"] = 8937592\n",
    "quantitative_df.loc[\"2022-04-13\", \"USA\"] = 8965487\n",
    "quantitative_df.loc[\"2022-04-20\", \"USA\"] = 8955851\n",
    "quantitative_df.loc[\"2022-04-27\", \"USA\"] = 8939199\n",
    "quantitative_df.loc[\"2022-05-04\", \"USA\"] = 8939972\n",
    "quantitative_df.loc[\"2022-05-11\", \"USA\"] = 8942008\n",
    "quantitative_df.loc[\"2022-05-18\", \"USA\"] = 8945898\n",
    "quantitative_df.loc[\"2022-05-25\", \"USA\"] = 8914281\n",
    "quantitative_df.loc[\"2022-06-01\", \"USA\"] = 8915050\n",
    "quantitative_df.loc[\"2022-06-08\", \"USA\"] = 8918254\n",
    "quantitative_df.loc[\"2022-06-15\", \"USA\"] = 8932420\n",
    "quantitative_df.loc[\"2022-06-22\", \"USA\"] = 8934346\n",
    "quantitative_df.loc[\"2022-06-29\", \"USA\"] = 8913553\n",
    "quantitative_df.loc[\"2022-07-06\", \"USA\"] = 8891851\n",
    "quantitative_df.loc[\"2022-07-13\", \"USA\"] = 8895867\n",
    "quantitative_df.loc[\"2022-07-20\", \"USA\"] = 8899213\n",
    "quantitative_df.loc[\"2022-07-27\", \"USA\"] = 8890004\n",
    "quantitative_df.loc[\"2022-08-03\", \"USA\"] = 8874620\n",
    "quantitative_df.loc[\"2022-08-10\", \"USA\"] = 8879138\n",
    "quantitative_df.loc[\"2022-08-17\", \"USA\"] = 8849762\n",
    "quantitative_df.loc[\"2022-08-24\", \"USA\"] = 8851436\n",
    "quantitative_df.loc[\"2022-08-31\", \"USA\"] = 8826093\n",
    "quantitative_df.loc[\"2022-09-07\", \"USA\"] = 8822401\n",
    "quantitative_df.loc[\"2022-09-14\", \"USA\"] = 8832759\n",
    "quantitative_df.loc[\"2022-09-21\", \"USA\"] = 8816802\n",
    "quantitative_df.loc[\"2022-09-28\", \"USA\"] = 8795567\n",
    "quantitative_df.loc[\"2022-10-05\", \"USA\"] = 8759053\n",
    "quantitative_df.loc[\"2022-10-12\", \"USA\"] = 8758969\n",
    "quantitative_df.loc[\"2022-10-19\", \"USA\"] = 8743922\n",
    "quantitative_df.loc[\"2022-10-26\", \"USA\"] = 8723090\n",
    "quantitative_df.loc[\"2022-11-02\", \"USA\"] = 8676870\n",
    "quantitative_df.loc[\"2022-11-09\", \"USA\"] = 8678886\n",
    "quantitative_df.loc[\"2022-11-16\", \"USA\"] = 8625620\n",
    "quantitative_df.loc[\"2022-11-23\", \"USA\"] = 8621390\n",
    "quantitative_df.loc[\"2022-11-30\", \"USA\"] = 8584576\n",
    "quantitative_df.loc[\"2022-12-07\", \"USA\"] = 8582735\n",
    "quantitative_df.loc[\"2022-12-14\", \"USA\"] = 8583413\n",
    "quantitative_df.loc[\"2022-12-21\", \"USA\"] = 8564411\n",
    "\n",
    "# Forgot to put quantitative_df *= 10**6 , so I will put this to my code"
   ]
  },
  {
   "cell_type": "code",
   "execution_count": null,
   "metadata": {},
   "outputs": [
    {
     "name": "stdout",
     "output_type": "stream",
     "text": [
      "                     USA\n",
      "Date                    \n",
      "2020-01-01  0.000000e+00\n",
      "2020-01-02  0.000000e+00\n",
      "2020-01-03  0.000000e+00\n",
      "2020-01-04  0.000000e+00\n",
      "2020-01-05  0.000000e+00\n",
      "...                  ...\n",
      "2022-12-27  0.000000e+00\n",
      "2022-12-28  0.000000e+00\n",
      "2022-12-29  0.000000e+00\n",
      "2022-12-30  0.000000e+00\n",
      "2022-12-31  3.141969e+13\n",
      "\n",
      "[1096 rows x 1 columns]\n"
     ]
    }
   ],
   "source": [
    "# https://fiscaldata.treasury.gov/datasets/monthly-statement-public-debt/summary-of-treasury-securities-outstanding\n",
    "debt_df = pd.DataFrame(policy_df.index).set_index(\"Date\")\n",
    "debt_df[\"USA\"] = 0.0\n",
    "debt_df.loc[\"2022-12-31\", \"USA\"] = 31419689.42\n",
    "debt_df.loc[\"2022-11-30\", \"USA\"] = 31413322.43\n",
    "debt_df.loc[\"2022-10-31\", \"USA\"] = 31238301.16\n",
    "debt_df.loc[\"2022-09-30\", \"USA\"] = 30928911.59\n",
    "debt_df.loc[\"2022-08-31\", \"USA\"] = 30936075.19\n",
    "debt_df.loc[\"2022-07-31\", \"USA\"] = 30595108.62\n",
    "debt_df.loc[\"2022-06-30\", \"USA\"] = 30568581.74\n",
    "debt_df.loc[\"2022-05-31\", \"USA\"] = 30499619.22\n",
    "debt_df.loc[\"2022-04-30\", \"USA\"] = 30374155.17\n",
    "debt_df.loc[\"2022-03-31\", \"USA\"] = 30400959.63\n",
    "debt_df.loc[\"2022-02-28\", \"USA\"] = 30290353.33\n",
    "debt_df.loc[\"2022-01-31\", \"USA\"] = 30012385.73\n",
    "debt_df.loc[\"2021-12-31\", \"USA\"] = 29617214.52\n",
    "debt_df.loc[\"2021-11-30\", \"USA\"] = 28907987.47\n",
    "debt_df.loc[\"2021-10-31\", \"USA\"] = 28908764.86\n",
    "debt_df.loc[\"2021-09-30\", \"USA\"] = 28428919.11\n",
    "debt_df.loc[\"2021-08-31\", \"USA\"] = 28427316.75\n",
    "debt_df.loc[\"2021-07-31\", \"USA\"] = 28427721.59\n",
    "debt_df.loc[\"2021-06-30\", \"USA\"] = 28529436.13\n",
    "debt_df.loc[\"2021-05-31\", \"USA\"] = 28199007.68\n",
    "debt_df.loc[\"2021-04-30\", \"USA\"] = 28174714.3\n",
    "debt_df.loc[\"2021-03-31\", \"USA\"] = 28132570.05\n",
    "debt_df.loc[\"2021-02-28\", \"USA\"] = 27902364.08\n",
    "debt_df.loc[\"2021-01-31\", \"USA\"] = 27784552.55\n",
    "debt_df.loc[\"2020-12-31\", \"USA\"] = 27747797.52\n",
    "debt_df.loc[\"2020-11-30\", \"USA\"] = 27446288.23\n",
    "debt_df.loc[\"2020-10-31\", \"USA\"] = 27135476.66\n",
    "debt_df.loc[\"2020-09-30\", \"USA\"] = 26945391.18\n",
    "debt_df.loc[\"2020-08-31\", \"USA\"] = 26728835.85\n",
    "debt_df.loc[\"2020-07-31\", \"USA\"] = 26524952.91\n",
    "debt_df.loc[\"2020-06-30\", \"USA\"] = 26477240.63\n",
    "debt_df.loc[\"2020-05-31\", \"USA\"] = 25746260.37\n",
    "debt_df.loc[\"2020-04-30\", \"USA\"] = 24974171.87\n",
    "debt_df.loc[\"2020-03-22\", \"USA\"] = 23686871\n",
    "debt_df *= 10**6 \n",
    "# debt_df = debt_df.sort_values(by='Date')\n",
    "print(debt_df)"
   ]
  },
  {
   "cell_type": "code",
   "execution_count": 16,
   "metadata": {},
   "outputs": [],
   "source": [
    "# https://fred.stlouisfed.org/series/DFEDTARU\n",
    "fed_fund_rate_df = pd.DataFrame(policy_df.index).set_index(\"Date\")\n",
    "fed_fund_rate_df[\"USA\"] = 0.0  \n",
    "fed_fund_rate_df.loc[\"2020-03-22\", \"USA\"] = 0.25\n",
    "fed_fund_rate_df.loc[\"2022-03-17\", \"USA\"] = 0.5\n",
    "fed_fund_rate_df.loc[\"2022-05-05\", \"USA\"] = 1.0\n",
    "fed_fund_rate_df.loc[\"2022-06-16\", \"USA\"] = 1.75\n",
    "fed_fund_rate_df.loc[\"2022-07-28\", \"USA\"] = 2.5\n",
    "fed_fund_rate_df.loc[\"2022-09-22\", \"USA\"] = 3.25\n",
    "fed_fund_rate_df.loc[\"2022-11-03\", \"USA\"] = 4.0\n",
    "fed_fund_rate_df.loc[\"2022-12-15\", \"USA\"] = 4.5\n",
    "fed_fund_rate_df.loc[\"2023-02-02\", \"USA\"] = 4.75\n",
    "fed_fund_rate_df.loc[\"2023-03-22\", \"USA\"] = 5.0\n",
    "fed_fund_rate_df.loc[\"2023-05-04\", \"USA\"] = 5.25\n",
    "fed_fund_rate_df.loc[\"2023-07-27\", \"USA\"] = 5.5\n"
   ]
  },
  {
   "cell_type": "code",
   "execution_count": 17,
   "metadata": {},
   "outputs": [],
   "source": [
    "\n",
    "us_treasury_yield_long_10_years = pd.DataFrame(policy_df.index).set_index(\"Date\")\n",
    "us_treasury_yield_long_10_years[\"USA\"] = 0.0\n",
    "us_treasury_yield_long_10_years.loc[\"2020-03-22\", \"USA\"] = 1.92\n",
    "us_treasury_yield_long_10_years.loc[\"2021-01-05\", \"USA\"] = 0.96\n",
    "us_treasury_yield_long_10_years.loc[\"2022-01-03\", \"USA\"] = 1.63\n"
   ]
  },
  {
   "cell_type": "code",
   "execution_count": 18,
   "metadata": {},
   "outputs": [],
   "source": [
    "# CBO 2019 - 2020 - 2021 Fiscal Year\n",
    "us_revenue_df = pd.DataFrame(policy_df.index).set_index(\"Date\")\n",
    "us_revenue_df[\"USA\"] = 0.0\n",
    "us_revenue_df.loc[\"2020-03-22\", \"USA\"] = 3.4 * 10**12\n",
    "us_revenue_df.loc[\"2020-12-31\", \"USA\"] = 3.4 * 10**12\n",
    "us_revenue_df.loc[\"2021-12-31\", \"USA\"] = 4 * 10**12\n",
    "\n",
    "us_spending_df = pd.DataFrame(policy_df.index).set_index(\"Date\")\n",
    "us_spending_df[\"USA\"] = 0.0\n",
    "us_spending_df.loc[\"2020-03-22\", \"USA\"] = 4.47 * 10**12\n",
    "us_spending_df.loc[\"2020-12-31\", \"USA\"] = 6.55 * 10**12\n",
    "us_spending_df.loc[\"2021-12-31\", \"USA\"] = 6.8 * 10**12"
   ]
  },
  {
   "cell_type": "markdown",
   "metadata": {},
   "source": [
    "# 3. COVID-19 Deaths data\n",
    "### Source: COVID-19 Data Repository by the Center for Systems Science and Engineering (CSSE) at Johns Hopkins University \n",
    "(https://github.com/CSSEGISandData/COVID-19)"
   ]
  },
  {
   "cell_type": "code",
   "execution_count": 19,
   "metadata": {},
   "outputs": [
    {
     "name": "stdout",
     "output_type": "stream",
     "text": [
      "Fetching latest U.S. COVID-19 deaths data from John Hopkins, and saving it in /home/dominus/ai-economist/ai_economist/datasets/covid19_datasets/2025-05-31\n",
      "COVID-19 death data for the US is available between 1/22/20 and 3/9/23\n"
     ]
    }
   ],
   "source": [
    "deaths_us_df = DatasetCovidDeathsUS(\n",
    "    data_dir=data_dir,\n",
    "    download_latest_data=DOWNLOAD_LATEST_DATA\n",
    ").df\n",
    "\n",
    "print(\"COVID-19 death data for the US is available between {} and {}\".format(\n",
    "    deaths_us_df.columns[12], deaths_us_df.columns[-1]))"
   ]
  },
  {
   "cell_type": "code",
   "execution_count": 20,
   "metadata": {},
   "outputs": [],
   "source": [
    "# Retain just the states in US_STATE_ORDER\n",
    "deaths_us_df = deaths_us_df[deaths_us_df.Province_State.isin(US_STATE_ORDER)]\n",
    "\n",
    "# We will visualize this later in the notebook"
   ]
  },
  {
   "cell_type": "markdown",
   "metadata": {},
   "source": [
    "# 4. COVID-19 Vaccination Data\n",
    "### Source: Our World in Data\n",
    "(https://ourworldindata.org/covid-vaccinations)"
   ]
  },
  {
   "cell_type": "code",
   "execution_count": 21,
   "metadata": {},
   "outputs": [
    {
     "name": "stdout",
     "output_type": "stream",
     "text": [
      "Fetching latest U.S. COVID-19 vaccination data from Our World in Data, and saving it in /home/dominus/ai-economist/ai_economist/datasets/covid19_datasets/2025-05-31\n",
      "Vaccination data is available between 2020-12-20 and 2023-05-10\n"
     ]
    }
   ],
   "source": [
    "vaccinations_us_df = DatasetCovidVaccinationsUS(\n",
    "    data_dir=data_dir,\n",
    "    download_latest_data=DOWNLOAD_LATEST_DATA\n",
    ").df\n",
    "\n",
    "vaccination_dates = sorted(vaccinations_us_df.date.unique())\n",
    "print(\"Vaccination data is available between {} and {}\".format(min(vaccination_dates), max(vaccination_dates)))"
   ]
  },
  {
   "cell_type": "code",
   "execution_count": 22,
   "metadata": {},
   "outputs": [],
   "source": [
    "vaccinated_df = vaccinations_us_df.pivot(\n",
    "    index=\"date\", columns=\"location\", values=\"people_fully_vaccinated\"\n",
    ")[US_STATE_ORDER]\n",
    "\n",
    "vaccinated_df.index = pd.to_datetime(vaccinated_df.index)\n",
    "vaccinated_df = vaccinated_df.reindex(COMMON_DATE_INDEX).fillna(0)"
   ]
  },
  {
   "cell_type": "code",
   "execution_count": 23,
   "metadata": {},
   "outputs": [
    {
     "data": {
      "image/png": "[encoded data removed]",
      "text/plain": [
       "<Figure size 1080x360 with 1 Axes>"
      ]
     },
     "metadata": {
      "needs_background": "light"
     },
     "output_type": "display_data"
    }
   ],
   "source": [
    "# Visualize the vaccinations for a specified US state\n",
    "# Warning: the last value may not be updated (may show it to be 0)\n",
    "\n",
    "state = \"California\"\n",
    "vaccinated_df[state].plot(figsize=(15,5), x='Date', title=\"Vaccinations for {}\".format(state), grid=True);"
   ]
  },
  {
   "cell_type": "markdown",
   "metadata": {},
   "source": [
    "## Using deaths and vaccinations to compute the susceptible-infected-recovered (SIR) numbers\n",
    "\n",
    "Our SIR data will only treat **deaths** as ground-truth.\n",
    "\n",
    "Given death data and some assumed constants about the _death rate_ and _recovery rate_ , we can apply some \"SIR algebra\" (i.e. solve for unknowns using the SIR equations) to _infer_ quantities like total \"recovered\", number of infected people, and ultimately **Beta**, which is the rate of transmission times the number of people an infected person comes into contact with."
   ]
  },
  {
   "cell_type": "code",
   "execution_count": 24,
   "metadata": {},
   "outputs": [],
   "source": [
    "# For data representation, we will want to build a dataframe for...\n",
    "# ... deaths...\n",
    "deaths_df = pd.DataFrame(COMMON_DATE_INDEX, columns=['Date']).set_index('Date')\n",
    "smoothed_deaths_df = pd.DataFrame(COMMON_DATE_INDEX, columns=['Date']).set_index('Date')\n",
    "# ... (inferred) SIR states...\n",
    "susceptible_df = pd.DataFrame(COMMON_DATE_INDEX, columns=['Date']).set_index('Date')\n",
    "infected_df    = pd.DataFrame(COMMON_DATE_INDEX, columns=['Date']).set_index('Date')\n",
    "recovered_df   = pd.DataFrame(COMMON_DATE_INDEX, columns=['Date']).set_index('Date')\n",
    "# ... and (inferred) Beta.\n",
    "beta_df = pd.DataFrame(COMMON_DATE_INDEX, columns=['Date']).set_index('Date')"
   ]
  },
  {
   "cell_type": "code",
   "execution_count": 25,
   "metadata": {},
   "outputs": [],
   "source": [
    "# STD of the Gaussian smoothing window applied to the death data.\n",
    "SIR_SMOOTHING_STD = 10"
   ]
  },
  {
   "cell_type": "code",
   "execution_count": 26,
   "metadata": {},
   "outputs": [],
   "source": [
    "# Fill the death dataframe from (smoothed) raw data\n",
    "\n",
    "def smooth(x, gauss_std=10):\n",
    "    \"\"\"\n",
    "    gauss_std: standard deviation of the Gaussian smoothing window applied to the death data.\n",
    "    \"\"\"\n",
    "    if gauss_std <= 0:\n",
    "        return x\n",
    "    # To invalidate the near-edge results, bookend the input x with nans\n",
    "    x = np.concatenate([[np.nan], np.array(x), [np.nan]])\n",
    "    \n",
    "    kernel = scipy.stats.norm.pdf(\n",
    "        np.linspace(-3*gauss_std, 3*gauss_std, 1+6*gauss_std),\n",
    "        scale=gauss_std\n",
    "    )\n",
    "    normer = np.ones_like(x)\n",
    "    smoothed_x = convolve(x, kernel, mode='same') / convolve(normer, kernel, mode='same')\n",
    "    \n",
    "    # Remove the indices added by the nan padding\n",
    "    return smoothed_x[1:-1]\n",
    "\n",
    "for us_state_name in US_STATE_ORDER:\n",
    "    state_deaths = deaths_us_df[deaths_us_df['Province_State']==us_state_name]\n",
    "    cumulative_state_deaths = []\n",
    "    for d in COMMON_DATE_INDEX:\n",
    "        date_string = '{d.month}/{d.day}/{y}'.format(d=d, y=d.year % 2000)\n",
    "        if date_string in state_deaths:\n",
    "            cumulative_state_deaths.append(\n",
    "                state_deaths[date_string].sum()\n",
    "            )\n",
    "        else:\n",
    "            cumulative_state_deaths.append(\n",
    "                np.nan\n",
    "            )\n",
    "            \n",
    "    # Store raw numbers (for direct comparison)\n",
    "    deaths_df[us_state_name] = cumulative_state_deaths\n",
    "    \n",
    "    # Store smoothed numbers (for beta analysis)\n",
    "    smoothed_cumulative_state_deaths = smooth(cumulative_state_deaths, gauss_std=SIR_SMOOTHING_STD)\n",
    "    smoothed_deaths_df[us_state_name] = smoothed_cumulative_state_deaths"
   ]
  },
  {
   "cell_type": "code",
   "execution_count": 27,
   "metadata": {},
   "outputs": [],
   "source": [
    "state_deaths = deaths_us_df[deaths_us_df['Province_State']==\"California\"]\n",
    "cumulative_state_deaths = []\n",
    "for d in COMMON_DATE_INDEX:\n",
    "    date_string = '{d.month}/{d.day}/{y}'.format(d=d, y=d.year % 2000)\n",
    "    if date_string in state_deaths:\n",
    "        cumulative_state_deaths.append(\n",
    "            state_deaths[date_string].sum()\n",
    "        )\n",
    "    else:\n",
    "        cumulative_state_deaths.append(\n",
    "            np.nan\n",
    "        )"
   ]
  },
  {
   "cell_type": "code",
   "execution_count": 28,
   "metadata": {},
   "outputs": [
    {
     "data": {
      "image/png": "[encoded data removed]",
      "text/plain": [
       "<Figure size 1080x360 with 1 Axes>"
      ]
     },
     "metadata": {
      "needs_background": "light"
     },
     "output_type": "display_data"
    }
   ],
   "source": [
    "# Visualize the deaths for a specified US state\n",
    "state = \"California\"\n",
    "\n",
    "# Some values near the ends may be \"missing\" because of smoothing\n",
    "deaths_df[state].plot(figsize=(15,5), x='Date', ylim=[0, 65000]);\n",
    "smoothed_deaths_df[state].plot(figsize=(15,5), x='Date', title=\"COVID deaths in {}\".format(state), ylim=[0, 65000], grid=True);"
   ]
  },
  {
   "cell_type": "code",
   "execution_count": 29,
   "metadata": {},
   "outputs": [],
   "source": [
    "# Death rate: fraction of infected persons who die\n",
    "SIR_MORTALITY = 0.02\n",
    "\n",
    "# Recovery rate: the inverse of expected time someone remains infected\n",
    "SIR_GAMMA = 1 / 14"
   ]
  },
  {
   "cell_type": "code",
   "execution_count": 30,
   "metadata": {},
   "outputs": [],
   "source": [
    "# This is the core \"SIR algebra\" used to infer S, I, R, and Beta at each date.\n",
    "\n",
    "def infer_sir_and_beta(us_state_name):\n",
    "    state_population = deaths_us_df[deaths_us_df['Province_State']==us_state_name]['Population'].sum()\n",
    "    \n",
    "    # Helpful to do this math in normalized numbers\n",
    "    dead = np.array(smoothed_deaths_df[us_state_name]) / state_population\n",
    "    vaccinated = np.array(vaccinated_df[us_state_name]) / state_population\n",
    "    \n",
    "    # Dead is the fraction of \"recovered\" that did not survive\n",
    "    # Also, the vaccinated lot is part of the recovered\n",
    "    recovered = dead / SIR_MORTALITY + vaccinated\n",
    "    \n",
    "    # The daily change in recovered (ignoring the vaccinated) is a fraction of the infected population on the previous day\n",
    "    infected = np.nan * np.zeros_like(dead)\n",
    "    infected[:-1] = (recovered[1:] - recovered[:-1] - (vaccinated[1:] - vaccinated[:-1])) / SIR_GAMMA\n",
    "    \n",
    "    # S+I+R must always = 1\n",
    "    susceptible = 1 - infected - recovered\n",
    "    \n",
    "    # Here's where things get interesting. The change in infected is due to...\n",
    "    change_in_i = infected[1:] - infected[:-1]\n",
    "    # ... infected people that transition to the recovered state (decreases I)...\n",
    "    expected_change_from_recovery = -infected[:-1] * SIR_GAMMA\n",
    "    # ... and susceptible people that transition to the infected state (increases I).\n",
    "    new_infections = change_in_i - expected_change_from_recovery\n",
    "    \n",
    "    # With these pieces, we can solve for Beta.\n",
    "    beta_ = new_infections / (infected[:-1] * susceptible[:-1] + 1e-6)\n",
    "    beta_ = np.clip(beta_, 0, 1)\n",
    "    # Apply a threshold in terms of normalized daily deaths (if too low, beta estimates are bad)\n",
    "    normalized_daily_deaths = dead[1:]-dead[:-1]\n",
    "    ndd_lookback = np.zeros_like(new_infections)\n",
    "    lookback_window = 3*SIR_SMOOTHING_STD\n",
    "    ndd_cutoff = 1e-8\n",
    "    ndd_lookback[lookback_window:] = normalized_daily_deaths[:-lookback_window]\n",
    "    beta_[np.logical_not(ndd_lookback > 1e-8)] = np.nan\n",
    "    \n",
    "    beta = np.nan * np.zeros_like(dead)\n",
    "    beta[:-1] = beta_\n",
    "    \n",
    "    # Undo normalization\n",
    "    susceptible *= state_population\n",
    "    infected    *= state_population\n",
    "    recovered   *= state_population\n",
    "    \n",
    "    return susceptible, infected, recovered, beta"
   ]
  },
  {
   "cell_type": "code",
   "execution_count": 31,
   "metadata": {},
   "outputs": [],
   "source": [
    "# Fill the SIR and Beta dataframes with their inferred values\n",
    "for st in US_STATE_ORDER:\n",
    "    susceptible_df[st], infected_df[st], recovered_df[st], beta_df[st] = infer_sir_and_beta(us_state_name=st)"
   ]
  },
  {
   "cell_type": "code",
   "execution_count": 32,
   "metadata": {},
   "outputs": [],
   "source": [
    "## Visualize the SIR and BETA for a specified US state\n",
    "# Warning: some values near the ends may be \"missing\" because of smoothing\n",
    "\n",
    "state = \"California\""
   ]
  },
  {
   "cell_type": "code",
   "execution_count": 33,
   "metadata": {},
   "outputs": [
    {
     "data": {
      "image/png": "[encoded data removed]",
      "text/plain": [
       "<Figure size 1080x216 with 1 Axes>"
      ]
     },
     "metadata": {
      "needs_background": "light"
     },
     "output_type": "display_data"
    }
   ],
   "source": [
    "susceptible_df[state].plot(figsize=(15,3), x='Date', title=\"(Inferred) Susceptible Population in {}\".format(state), grid=True);"
   ]
  },
  {
   "cell_type": "code",
   "execution_count": 34,
   "metadata": {},
   "outputs": [
    {
     "data": {
      "image/png": "[encoded data removed]",
      "text/plain": [
       "<Figure size 1080x216 with 1 Axes>"
      ]
     },
     "metadata": {
      "needs_background": "light"
     },
     "output_type": "display_data"
    }
   ],
   "source": [
    "infected_df[state].plot(figsize=(15,3), x='Date', title=\"(Inferred) Infected Population in {}\".format(state), grid=True);"
   ]
  },
  {
   "cell_type": "code",
   "execution_count": 35,
   "metadata": {},
   "outputs": [
    {
     "data": {
      "image/png": "[encoded data removed]",
      "text/plain": [
       "<Figure size 1080x216 with 1 Axes>"
      ]
     },
     "metadata": {
      "needs_background": "light"
     },
     "output_type": "display_data"
    }
   ],
   "source": [
    "recovered_df[state].plot(figsize=(15,3), x='Date', title=\"(Inferred) Recovered Population in {}\".format(state), grid=True);"
   ]
  },
  {
   "cell_type": "code",
   "execution_count": 36,
   "metadata": {},
   "outputs": [
    {
     "data": {
      "image/png": "[encoded data removed]",
      "text/plain": [
       "<Figure size 1080x216 with 1 Axes>"
      ]
     },
     "metadata": {
      "needs_background": "light"
     },
     "output_type": "display_data"
    }
   ],
   "source": [
    "beta_df[state].plot(figsize=(15,3), x='Date', title=\"(Inferred) SIR Beta in {}\".format(state), grid=True);"
   ]
  },
  {
   "cell_type": "markdown",
   "metadata": {},
   "source": [
    "# 5. COVID-19 Unemployment data\n",
    "### Source: Bureau of Labor and Statistics\n",
    "\n",
    "https://www.bls.gov/lau/"
   ]
  },
  {
   "cell_type": "code",
   "execution_count": 37,
   "metadata": {},
   "outputs": [
    {
     "ename": "URLError",
     "evalue": "<urlopen error [SSL: CERTIFICATE_VERIFY_FAILED] certificate verify failed: unable to get local issuer certificate (_ssl.c:1091)>",
     "output_type": "error",
     "traceback": [
      "\u001b[0;31m---------------------------------------------------------------------------\u001b[0m",
      "\u001b[0;31mSSLCertVerificationError\u001b[0m                  Traceback (most recent call last)",
      "\u001b[0;32m~/miniconda3/envs/AI/lib/python3.7/urllib/request.py\u001b[0m in \u001b[0;36mdo_open\u001b[0;34m(self, http_class, req, **http_conn_args)\u001b[0m\n\u001b[1;32m   1349\u001b[0m                 h.request(req.get_method(), req.selector, req.data, headers,\n\u001b[0;32m-> 1350\u001b[0;31m                           encode_chunked=req.has_header('Transfer-encoding'))\n\u001b[0m\u001b[1;32m   1351\u001b[0m             \u001b[0;32mexcept\u001b[0m \u001b[0mOSError\u001b[0m \u001b[0;32mas\u001b[0m \u001b[0merr\u001b[0m\u001b[0;34m:\u001b[0m \u001b[0;31m# timeout error\u001b[0m\u001b[0;34m\u001b[0m\u001b[0;34m\u001b[0m\u001b[0m\n",
      "\u001b[0;32m~/miniconda3/envs/AI/lib/python3.7/http/client.py\u001b[0m in \u001b[0;36mrequest\u001b[0;34m(self, method, url, body, headers, encode_chunked)\u001b[0m\n\u001b[1;32m   1280\u001b[0m         \u001b[0;34m\"\"\"Send a complete request to the server.\"\"\"\u001b[0m\u001b[0;34m\u001b[0m\u001b[0;34m\u001b[0m\u001b[0m\n\u001b[0;32m-> 1281\u001b[0;31m         \u001b[0mself\u001b[0m\u001b[0;34m.\u001b[0m\u001b[0m_send_request\u001b[0m\u001b[0;34m(\u001b[0m\u001b[0mmethod\u001b[0m\u001b[0;34m,\u001b[0m \u001b[0murl\u001b[0m\u001b[0;34m,\u001b[0m \u001b[0mbody\u001b[0m\u001b[0;34m,\u001b[0m \u001b[0mheaders\u001b[0m\u001b[0;34m,\u001b[0m \u001b[0mencode_chunked\u001b[0m\u001b[0;34m)\u001b[0m\u001b[0;34m\u001b[0m\u001b[0;34m\u001b[0m\u001b[0m\n\u001b[0m\u001b[1;32m   1282\u001b[0m \u001b[0;34m\u001b[0m\u001b[0m\n",
      "\u001b[0;32m~/miniconda3/envs/AI/lib/python3.7/http/client.py\u001b[0m in \u001b[0;36m_send_request\u001b[0;34m(self, method, url, body, headers, encode_chunked)\u001b[0m\n\u001b[1;32m   1326\u001b[0m             \u001b[0mbody\u001b[0m \u001b[0;34m=\u001b[0m \u001b[0m_encode\u001b[0m\u001b[0;34m(\u001b[0m\u001b[0mbody\u001b[0m\u001b[0;34m,\u001b[0m \u001b[0;34m'body'\u001b[0m\u001b[0;34m)\u001b[0m\u001b[0;34m\u001b[0m\u001b[0;34m\u001b[0m\u001b[0m\n\u001b[0;32m-> 1327\u001b[0;31m         \u001b[0mself\u001b[0m\u001b[0;34m.\u001b[0m\u001b[0mendheaders\u001b[0m\u001b[0;34m(\u001b[0m\u001b[0mbody\u001b[0m\u001b[0;34m,\u001b[0m \u001b[0mencode_chunked\u001b[0m\u001b[0;34m=\u001b[0m\u001b[0mencode_chunked\u001b[0m\u001b[0;34m)\u001b[0m\u001b[0;34m\u001b[0m\u001b[0;34m\u001b[0m\u001b[0m\n\u001b[0m\u001b[1;32m   1328\u001b[0m \u001b[0;34m\u001b[0m\u001b[0m\n",
      "\u001b[0;32m~/miniconda3/envs/AI/lib/python3.7/http/client.py\u001b[0m in \u001b[0;36mendheaders\u001b[0;34m(self, message_body, encode_chunked)\u001b[0m\n\u001b[1;32m   1275\u001b[0m             \u001b[0;32mraise\u001b[0m \u001b[0mCannotSendHeader\u001b[0m\u001b[0;34m(\u001b[0m\u001b[0;34m)\u001b[0m\u001b[0;34m\u001b[0m\u001b[0;34m\u001b[0m\u001b[0m\n\u001b[0;32m-> 1276\u001b[0;31m         \u001b[0mself\u001b[0m\u001b[0;34m.\u001b[0m\u001b[0m_send_output\u001b[0m\u001b[0;34m(\u001b[0m\u001b[0mmessage_body\u001b[0m\u001b[0;34m,\u001b[0m \u001b[0mencode_chunked\u001b[0m\u001b[0;34m=\u001b[0m\u001b[0mencode_chunked\u001b[0m\u001b[0;34m)\u001b[0m\u001b[0;34m\u001b[0m\u001b[0;34m\u001b[0m\u001b[0m\n\u001b[0m\u001b[1;32m   1277\u001b[0m \u001b[0;34m\u001b[0m\u001b[0m\n",
      "\u001b[0;32m~/miniconda3/envs/AI/lib/python3.7/http/client.py\u001b[0m in \u001b[0;36m_send_output\u001b[0;34m(self, message_body, encode_chunked)\u001b[0m\n\u001b[1;32m   1035\u001b[0m         \u001b[0;32mdel\u001b[0m \u001b[0mself\u001b[0m\u001b[0;34m.\u001b[0m\u001b[0m_buffer\u001b[0m\u001b[0;34m[\u001b[0m\u001b[0;34m:\u001b[0m\u001b[0;34m]\u001b[0m\u001b[0;34m\u001b[0m\u001b[0;34m\u001b[0m\u001b[0m\n\u001b[0;32m-> 1036\u001b[0;31m         \u001b[0mself\u001b[0m\u001b[0;34m.\u001b[0m\u001b[0msend\u001b[0m\u001b[0;34m(\u001b[0m\u001b[0mmsg\u001b[0m\u001b[0;34m)\u001b[0m\u001b[0;34m\u001b[0m\u001b[0;34m\u001b[0m\u001b[0m\n\u001b[0m\u001b[1;32m   1037\u001b[0m \u001b[0;34m\u001b[0m\u001b[0m\n",
      "\u001b[0;32m~/miniconda3/envs/AI/lib/python3.7/http/client.py\u001b[0m in \u001b[0;36msend\u001b[0;34m(self, data)\u001b[0m\n\u001b[1;32m    975\u001b[0m             \u001b[0;32mif\u001b[0m \u001b[0mself\u001b[0m\u001b[0;34m.\u001b[0m\u001b[0mauto_open\u001b[0m\u001b[0;34m:\u001b[0m\u001b[0;34m\u001b[0m\u001b[0;34m\u001b[0m\u001b[0m\n\u001b[0;32m--> 976\u001b[0;31m                 \u001b[0mself\u001b[0m\u001b[0;34m.\u001b[0m\u001b[0mconnect\u001b[0m\u001b[0;34m(\u001b[0m\u001b[0;34m)\u001b[0m\u001b[0;34m\u001b[0m\u001b[0;34m\u001b[0m\u001b[0m\n\u001b[0m\u001b[1;32m    977\u001b[0m             \u001b[0;32melse\u001b[0m\u001b[0;34m:\u001b[0m\u001b[0;34m\u001b[0m\u001b[0;34m\u001b[0m\u001b[0m\n",
      "\u001b[0;32m~/miniconda3/envs/AI/lib/python3.7/http/client.py\u001b[0m in \u001b[0;36mconnect\u001b[0;34m(self)\u001b[0m\n\u001b[1;32m   1450\u001b[0m             self.sock = self._context.wrap_socket(self.sock,\n\u001b[0;32m-> 1451\u001b[0;31m                                                   server_hostname=server_hostname)\n\u001b[0m\u001b[1;32m   1452\u001b[0m \u001b[0;34m\u001b[0m\u001b[0m\n",
      "\u001b[0;32m~/miniconda3/envs/AI/lib/python3.7/ssl.py\u001b[0m in \u001b[0;36mwrap_socket\u001b[0;34m(self, sock, server_side, do_handshake_on_connect, suppress_ragged_eofs, server_hostname, session)\u001b[0m\n\u001b[1;32m    422\u001b[0m             \u001b[0mcontext\u001b[0m\u001b[0;34m=\u001b[0m\u001b[0mself\u001b[0m\u001b[0;34m,\u001b[0m\u001b[0;34m\u001b[0m\u001b[0;34m\u001b[0m\u001b[0m\n\u001b[0;32m--> 423\u001b[0;31m             \u001b[0msession\u001b[0m\u001b[0;34m=\u001b[0m\u001b[0msession\u001b[0m\u001b[0;34m\u001b[0m\u001b[0;34m\u001b[0m\u001b[0m\n\u001b[0m\u001b[1;32m    424\u001b[0m         )\n",
      "\u001b[0;32m~/miniconda3/envs/AI/lib/python3.7/ssl.py\u001b[0m in \u001b[0;36m_create\u001b[0;34m(cls, sock, server_side, do_handshake_on_connect, suppress_ragged_eofs, server_hostname, context, session)\u001b[0m\n\u001b[1;32m    869\u001b[0m                         \u001b[0;32mraise\u001b[0m \u001b[0mValueError\u001b[0m\u001b[0;34m(\u001b[0m\u001b[0;34m\"do_handshake_on_connect should not be specified for non-blocking sockets\"\u001b[0m\u001b[0;34m)\u001b[0m\u001b[0;34m\u001b[0m\u001b[0;34m\u001b[0m\u001b[0m\n\u001b[0;32m--> 870\u001b[0;31m                     \u001b[0mself\u001b[0m\u001b[0;34m.\u001b[0m\u001b[0mdo_handshake\u001b[0m\u001b[0;34m(\u001b[0m\u001b[0;34m)\u001b[0m\u001b[0;34m\u001b[0m\u001b[0;34m\u001b[0m\u001b[0m\n\u001b[0m\u001b[1;32m    871\u001b[0m             \u001b[0;32mexcept\u001b[0m \u001b[0;34m(\u001b[0m\u001b[0mOSError\u001b[0m\u001b[0;34m,\u001b[0m \u001b[0mValueError\u001b[0m\u001b[0;34m)\u001b[0m\u001b[0;34m:\u001b[0m\u001b[0;34m\u001b[0m\u001b[0;34m\u001b[0m\u001b[0m\n",
      "\u001b[0;32m~/miniconda3/envs/AI/lib/python3.7/ssl.py\u001b[0m in \u001b[0;36mdo_handshake\u001b[0;34m(self, block)\u001b[0m\n\u001b[1;32m   1138\u001b[0m                 \u001b[0mself\u001b[0m\u001b[0;34m.\u001b[0m\u001b[0msettimeout\u001b[0m\u001b[0;34m(\u001b[0m\u001b[0;32mNone\u001b[0m\u001b[0;34m)\u001b[0m\u001b[0;34m\u001b[0m\u001b[0;34m\u001b[0m\u001b[0m\n\u001b[0;32m-> 1139\u001b[0;31m             \u001b[0mself\u001b[0m\u001b[0;34m.\u001b[0m\u001b[0m_sslobj\u001b[0m\u001b[0;34m.\u001b[0m\u001b[0mdo_handshake\u001b[0m\u001b[0;34m(\u001b[0m\u001b[0;34m)\u001b[0m\u001b[0;34m\u001b[0m\u001b[0;34m\u001b[0m\u001b[0m\n\u001b[0m\u001b[1;32m   1140\u001b[0m         \u001b[0;32mfinally\u001b[0m\u001b[0;34m:\u001b[0m\u001b[0;34m\u001b[0m\u001b[0;34m\u001b[0m\u001b[0m\n",
      "\u001b[0;31mSSLCertVerificationError\u001b[0m: [SSL: CERTIFICATE_VERIFY_FAILED] certificate verify failed: unable to get local issuer certificate (_ssl.c:1091)",
      "\nDuring handling of the above exception, another exception occurred:\n",
      "\u001b[0;31mURLError\u001b[0m                                  Traceback (most recent call last)",
      "\u001b[0;32m<ipython-input-37-52f7b6183cf4>\u001b[0m in \u001b[0;36m<module>\u001b[0;34m\u001b[0m\n\u001b[1;32m      1\u001b[0m monthly_unemployment_us = DatasetCovidUnemploymentUS(\n\u001b[1;32m      2\u001b[0m     \u001b[0mdata_dir\u001b[0m\u001b[0;34m=\u001b[0m\u001b[0mdata_dir\u001b[0m\u001b[0;34m,\u001b[0m\u001b[0;34m\u001b[0m\u001b[0;34m\u001b[0m\u001b[0m\n\u001b[0;32m----> 3\u001b[0;31m     download_latest_data=DOWNLOAD_LATEST_DATA).data\n\u001b[0m",
      "\u001b[0;32m~/miniconda3/envs/AI/lib/python3.7/site-packages/ai_economist/datasets/covid19_datasets/us_unemployment.py\u001b[0m in \u001b[0;36m__init__\u001b[0;34m(self, data_dir, download_latest_data)\u001b[0m\n\u001b[1;32m     36\u001b[0m                 \u001b[0;34m\"https://www2.census.gov/programs-surveys/popest/geographies/2017/\"\u001b[0m\u001b[0;34m\u001b[0m\u001b[0;34m\u001b[0m\u001b[0m\n\u001b[1;32m     37\u001b[0m                 \u001b[0;34m\"state-geocodes-v2017.xlsx\"\u001b[0m\u001b[0;34m,\u001b[0m\u001b[0;34m\u001b[0m\u001b[0;34m\u001b[0m\u001b[0m\n\u001b[0;32m---> 38\u001b[0;31m                 \u001b[0mheader\u001b[0m\u001b[0;34m=\u001b[0m\u001b[0;36m5\u001b[0m\u001b[0;34m,\u001b[0m\u001b[0;34m\u001b[0m\u001b[0;34m\u001b[0m\u001b[0m\n\u001b[0m\u001b[1;32m     39\u001b[0m             )\n\u001b[1;32m     40\u001b[0m             \u001b[0;31m# remove all statistical areas and cities\u001b[0m\u001b[0;34m\u001b[0m\u001b[0;34m\u001b[0m\u001b[0;34m\u001b[0m\u001b[0m\n",
      "\u001b[0;32m~/miniconda3/envs/AI/lib/python3.7/site-packages/pandas/util/_decorators.py\u001b[0m in \u001b[0;36mwrapper\u001b[0;34m(*args, **kwargs)\u001b[0m\n\u001b[1;32m    297\u001b[0m                 )\n\u001b[1;32m    298\u001b[0m                 \u001b[0mwarnings\u001b[0m\u001b[0;34m.\u001b[0m\u001b[0mwarn\u001b[0m\u001b[0;34m(\u001b[0m\u001b[0mmsg\u001b[0m\u001b[0;34m,\u001b[0m \u001b[0mFutureWarning\u001b[0m\u001b[0;34m,\u001b[0m \u001b[0mstacklevel\u001b[0m\u001b[0;34m=\u001b[0m\u001b[0mstacklevel\u001b[0m\u001b[0;34m)\u001b[0m\u001b[0;34m\u001b[0m\u001b[0;34m\u001b[0m\u001b[0m\n\u001b[0;32m--> 299\u001b[0;31m             \u001b[0;32mreturn\u001b[0m \u001b[0mfunc\u001b[0m\u001b[0;34m(\u001b[0m\u001b[0;34m*\u001b[0m\u001b[0margs\u001b[0m\u001b[0;34m,\u001b[0m \u001b[0;34m**\u001b[0m\u001b[0mkwargs\u001b[0m\u001b[0;34m)\u001b[0m\u001b[0;34m\u001b[0m\u001b[0;34m\u001b[0m\u001b[0m\n\u001b[0m\u001b[1;32m    300\u001b[0m \u001b[0;34m\u001b[0m\u001b[0m\n\u001b[1;32m    301\u001b[0m         \u001b[0;32mreturn\u001b[0m \u001b[0mwrapper\u001b[0m\u001b[0;34m\u001b[0m\u001b[0;34m\u001b[0m\u001b[0m\n",
      "\u001b[0;32m~/miniconda3/envs/AI/lib/python3.7/site-packages/pandas/io/excel/_base.py\u001b[0m in \u001b[0;36mread_excel\u001b[0;34m(io, sheet_name, header, names, index_col, usecols, squeeze, dtype, engine, converters, true_values, false_values, skiprows, nrows, na_values, keep_default_na, na_filter, verbose, parse_dates, date_parser, thousands, comment, skipfooter, convert_float, mangle_dupe_cols, storage_options)\u001b[0m\n\u001b[1;32m    334\u001b[0m     \u001b[0;32mif\u001b[0m \u001b[0;32mnot\u001b[0m \u001b[0misinstance\u001b[0m\u001b[0;34m(\u001b[0m\u001b[0mio\u001b[0m\u001b[0;34m,\u001b[0m \u001b[0mExcelFile\u001b[0m\u001b[0;34m)\u001b[0m\u001b[0;34m:\u001b[0m\u001b[0;34m\u001b[0m\u001b[0;34m\u001b[0m\u001b[0m\n\u001b[1;32m    335\u001b[0m         \u001b[0mshould_close\u001b[0m \u001b[0;34m=\u001b[0m \u001b[0;32mTrue\u001b[0m\u001b[0;34m\u001b[0m\u001b[0;34m\u001b[0m\u001b[0m\n\u001b[0;32m--> 336\u001b[0;31m         \u001b[0mio\u001b[0m \u001b[0;34m=\u001b[0m \u001b[0mExcelFile\u001b[0m\u001b[0;34m(\u001b[0m\u001b[0mio\u001b[0m\u001b[0;34m,\u001b[0m \u001b[0mstorage_options\u001b[0m\u001b[0;34m=\u001b[0m\u001b[0mstorage_options\u001b[0m\u001b[0;34m,\u001b[0m \u001b[0mengine\u001b[0m\u001b[0;34m=\u001b[0m\u001b[0mengine\u001b[0m\u001b[0;34m)\u001b[0m\u001b[0;34m\u001b[0m\u001b[0;34m\u001b[0m\u001b[0m\n\u001b[0m\u001b[1;32m    337\u001b[0m     \u001b[0;32melif\u001b[0m \u001b[0mengine\u001b[0m \u001b[0;32mand\u001b[0m \u001b[0mengine\u001b[0m \u001b[0;34m!=\u001b[0m \u001b[0mio\u001b[0m\u001b[0;34m.\u001b[0m\u001b[0mengine\u001b[0m\u001b[0;34m:\u001b[0m\u001b[0;34m\u001b[0m\u001b[0;34m\u001b[0m\u001b[0m\n\u001b[1;32m    338\u001b[0m         raise ValueError(\n",
      "\u001b[0;32m~/miniconda3/envs/AI/lib/python3.7/site-packages/pandas/io/excel/_base.py\u001b[0m in \u001b[0;36m__init__\u001b[0;34m(self, path_or_buffer, engine, storage_options)\u001b[0m\n\u001b[1;32m   1070\u001b[0m             \u001b[0;32melse\u001b[0m\u001b[0;34m:\u001b[0m\u001b[0;34m\u001b[0m\u001b[0;34m\u001b[0m\u001b[0m\n\u001b[1;32m   1071\u001b[0m                 ext = inspect_excel_format(\n\u001b[0;32m-> 1072\u001b[0;31m                     \u001b[0mcontent\u001b[0m\u001b[0;34m=\u001b[0m\u001b[0mpath_or_buffer\u001b[0m\u001b[0;34m,\u001b[0m \u001b[0mstorage_options\u001b[0m\u001b[0;34m=\u001b[0m\u001b[0mstorage_options\u001b[0m\u001b[0;34m\u001b[0m\u001b[0;34m\u001b[0m\u001b[0m\n\u001b[0m\u001b[1;32m   1073\u001b[0m                 )\n\u001b[1;32m   1074\u001b[0m \u001b[0;34m\u001b[0m\u001b[0m\n",
      "\u001b[0;32m~/miniconda3/envs/AI/lib/python3.7/site-packages/pandas/io/excel/_base.py\u001b[0m in \u001b[0;36minspect_excel_format\u001b[0;34m(path, content, storage_options)\u001b[0m\n\u001b[1;32m    948\u001b[0m \u001b[0;34m\u001b[0m\u001b[0m\n\u001b[1;32m    949\u001b[0m     with get_handle(\n\u001b[0;32m--> 950\u001b[0;31m         \u001b[0mcontent_or_path\u001b[0m\u001b[0;34m,\u001b[0m \u001b[0;34m\"rb\"\u001b[0m\u001b[0;34m,\u001b[0m \u001b[0mstorage_options\u001b[0m\u001b[0;34m=\u001b[0m\u001b[0mstorage_options\u001b[0m\u001b[0;34m,\u001b[0m \u001b[0mis_text\u001b[0m\u001b[0;34m=\u001b[0m\u001b[0;32mFalse\u001b[0m\u001b[0;34m\u001b[0m\u001b[0;34m\u001b[0m\u001b[0m\n\u001b[0m\u001b[1;32m    951\u001b[0m     ) as handle:\n\u001b[1;32m    952\u001b[0m         \u001b[0mstream\u001b[0m \u001b[0;34m=\u001b[0m \u001b[0mhandle\u001b[0m\u001b[0;34m.\u001b[0m\u001b[0mhandle\u001b[0m\u001b[0;34m\u001b[0m\u001b[0;34m\u001b[0m\u001b[0m\n",
      "\u001b[0;32m~/miniconda3/envs/AI/lib/python3.7/site-packages/pandas/io/common.py\u001b[0m in \u001b[0;36mget_handle\u001b[0;34m(path_or_buf, mode, encoding, compression, memory_map, is_text, errors, storage_options)\u001b[0m\n\u001b[1;32m    561\u001b[0m         \u001b[0mcompression\u001b[0m\u001b[0;34m=\u001b[0m\u001b[0mcompression\u001b[0m\u001b[0;34m,\u001b[0m\u001b[0;34m\u001b[0m\u001b[0;34m\u001b[0m\u001b[0m\n\u001b[1;32m    562\u001b[0m         \u001b[0mmode\u001b[0m\u001b[0;34m=\u001b[0m\u001b[0mmode\u001b[0m\u001b[0;34m,\u001b[0m\u001b[0;34m\u001b[0m\u001b[0;34m\u001b[0m\u001b[0m\n\u001b[0;32m--> 563\u001b[0;31m         \u001b[0mstorage_options\u001b[0m\u001b[0;34m=\u001b[0m\u001b[0mstorage_options\u001b[0m\u001b[0;34m,\u001b[0m\u001b[0;34m\u001b[0m\u001b[0;34m\u001b[0m\u001b[0m\n\u001b[0m\u001b[1;32m    564\u001b[0m     )\n\u001b[1;32m    565\u001b[0m \u001b[0;34m\u001b[0m\u001b[0m\n",
      "\u001b[0;32m~/miniconda3/envs/AI/lib/python3.7/site-packages/pandas/io/common.py\u001b[0m in \u001b[0;36m_get_filepath_or_buffer\u001b[0;34m(filepath_or_buffer, encoding, compression, mode, storage_options)\u001b[0m\n\u001b[1;32m    287\u001b[0m                 \u001b[0;34m\"storage_options passed with file object or non-fsspec file path\"\u001b[0m\u001b[0;34m\u001b[0m\u001b[0;34m\u001b[0m\u001b[0m\n\u001b[1;32m    288\u001b[0m             )\n\u001b[0;32m--> 289\u001b[0;31m         \u001b[0mreq\u001b[0m \u001b[0;34m=\u001b[0m \u001b[0murlopen\u001b[0m\u001b[0;34m(\u001b[0m\u001b[0mfilepath_or_buffer\u001b[0m\u001b[0;34m)\u001b[0m\u001b[0;34m\u001b[0m\u001b[0;34m\u001b[0m\u001b[0m\n\u001b[0m\u001b[1;32m    290\u001b[0m         \u001b[0mcontent_encoding\u001b[0m \u001b[0;34m=\u001b[0m \u001b[0mreq\u001b[0m\u001b[0;34m.\u001b[0m\u001b[0mheaders\u001b[0m\u001b[0;34m.\u001b[0m\u001b[0mget\u001b[0m\u001b[0;34m(\u001b[0m\u001b[0;34m\"Content-Encoding\"\u001b[0m\u001b[0;34m,\u001b[0m \u001b[0;32mNone\u001b[0m\u001b[0;34m)\u001b[0m\u001b[0;34m\u001b[0m\u001b[0;34m\u001b[0m\u001b[0m\n\u001b[1;32m    291\u001b[0m         \u001b[0;32mif\u001b[0m \u001b[0mcontent_encoding\u001b[0m \u001b[0;34m==\u001b[0m \u001b[0;34m\"gzip\"\u001b[0m\u001b[0;34m:\u001b[0m\u001b[0;34m\u001b[0m\u001b[0;34m\u001b[0m\u001b[0m\n",
      "\u001b[0;32m~/miniconda3/envs/AI/lib/python3.7/site-packages/pandas/io/common.py\u001b[0m in \u001b[0;36murlopen\u001b[0;34m(*args, **kwargs)\u001b[0m\n\u001b[1;32m    193\u001b[0m     \u001b[0;32mimport\u001b[0m \u001b[0murllib\u001b[0m\u001b[0;34m.\u001b[0m\u001b[0mrequest\u001b[0m\u001b[0;34m\u001b[0m\u001b[0;34m\u001b[0m\u001b[0m\n\u001b[1;32m    194\u001b[0m \u001b[0;34m\u001b[0m\u001b[0m\n\u001b[0;32m--> 195\u001b[0;31m     \u001b[0;32mreturn\u001b[0m \u001b[0murllib\u001b[0m\u001b[0;34m.\u001b[0m\u001b[0mrequest\u001b[0m\u001b[0;34m.\u001b[0m\u001b[0murlopen\u001b[0m\u001b[0;34m(\u001b[0m\u001b[0;34m*\u001b[0m\u001b[0margs\u001b[0m\u001b[0;34m,\u001b[0m \u001b[0;34m**\u001b[0m\u001b[0mkwargs\u001b[0m\u001b[0;34m)\u001b[0m\u001b[0;34m\u001b[0m\u001b[0;34m\u001b[0m\u001b[0m\n\u001b[0m\u001b[1;32m    196\u001b[0m \u001b[0;34m\u001b[0m\u001b[0m\n\u001b[1;32m    197\u001b[0m \u001b[0;34m\u001b[0m\u001b[0m\n",
      "\u001b[0;32m~/miniconda3/envs/AI/lib/python3.7/urllib/request.py\u001b[0m in \u001b[0;36murlopen\u001b[0;34m(url, data, timeout, cafile, capath, cadefault, context)\u001b[0m\n\u001b[1;32m    220\u001b[0m     \u001b[0;32melse\u001b[0m\u001b[0;34m:\u001b[0m\u001b[0;34m\u001b[0m\u001b[0;34m\u001b[0m\u001b[0m\n\u001b[1;32m    221\u001b[0m         \u001b[0mopener\u001b[0m \u001b[0;34m=\u001b[0m \u001b[0m_opener\u001b[0m\u001b[0;34m\u001b[0m\u001b[0;34m\u001b[0m\u001b[0m\n\u001b[0;32m--> 222\u001b[0;31m     \u001b[0;32mreturn\u001b[0m \u001b[0mopener\u001b[0m\u001b[0;34m.\u001b[0m\u001b[0mopen\u001b[0m\u001b[0;34m(\u001b[0m\u001b[0murl\u001b[0m\u001b[0;34m,\u001b[0m \u001b[0mdata\u001b[0m\u001b[0;34m,\u001b[0m \u001b[0mtimeout\u001b[0m\u001b[0;34m)\u001b[0m\u001b[0;34m\u001b[0m\u001b[0;34m\u001b[0m\u001b[0m\n\u001b[0m\u001b[1;32m    223\u001b[0m \u001b[0;34m\u001b[0m\u001b[0m\n\u001b[1;32m    224\u001b[0m \u001b[0;32mdef\u001b[0m \u001b[0minstall_opener\u001b[0m\u001b[0;34m(\u001b[0m\u001b[0mopener\u001b[0m\u001b[0;34m)\u001b[0m\u001b[0;34m:\u001b[0m\u001b[0;34m\u001b[0m\u001b[0;34m\u001b[0m\u001b[0m\n",
      "\u001b[0;32m~/miniconda3/envs/AI/lib/python3.7/urllib/request.py\u001b[0m in \u001b[0;36mopen\u001b[0;34m(self, fullurl, data, timeout)\u001b[0m\n\u001b[1;32m    523\u001b[0m             \u001b[0mreq\u001b[0m \u001b[0;34m=\u001b[0m \u001b[0mmeth\u001b[0m\u001b[0;34m(\u001b[0m\u001b[0mreq\u001b[0m\u001b[0;34m)\u001b[0m\u001b[0;34m\u001b[0m\u001b[0;34m\u001b[0m\u001b[0m\n\u001b[1;32m    524\u001b[0m \u001b[0;34m\u001b[0m\u001b[0m\n\u001b[0;32m--> 525\u001b[0;31m         \u001b[0mresponse\u001b[0m \u001b[0;34m=\u001b[0m \u001b[0mself\u001b[0m\u001b[0;34m.\u001b[0m\u001b[0m_open\u001b[0m\u001b[0;34m(\u001b[0m\u001b[0mreq\u001b[0m\u001b[0;34m,\u001b[0m \u001b[0mdata\u001b[0m\u001b[0;34m)\u001b[0m\u001b[0;34m\u001b[0m\u001b[0;34m\u001b[0m\u001b[0m\n\u001b[0m\u001b[1;32m    526\u001b[0m \u001b[0;34m\u001b[0m\u001b[0m\n\u001b[1;32m    527\u001b[0m         \u001b[0;31m# post-process response\u001b[0m\u001b[0;34m\u001b[0m\u001b[0;34m\u001b[0m\u001b[0;34m\u001b[0m\u001b[0m\n",
      "\u001b[0;32m~/miniconda3/envs/AI/lib/python3.7/urllib/request.py\u001b[0m in \u001b[0;36m_open\u001b[0;34m(self, req, data)\u001b[0m\n\u001b[1;32m    541\u001b[0m         \u001b[0mprotocol\u001b[0m \u001b[0;34m=\u001b[0m \u001b[0mreq\u001b[0m\u001b[0;34m.\u001b[0m\u001b[0mtype\u001b[0m\u001b[0;34m\u001b[0m\u001b[0;34m\u001b[0m\u001b[0m\n\u001b[1;32m    542\u001b[0m         result = self._call_chain(self.handle_open, protocol, protocol +\n\u001b[0;32m--> 543\u001b[0;31m                                   '_open', req)\n\u001b[0m\u001b[1;32m    544\u001b[0m         \u001b[0;32mif\u001b[0m \u001b[0mresult\u001b[0m\u001b[0;34m:\u001b[0m\u001b[0;34m\u001b[0m\u001b[0;34m\u001b[0m\u001b[0m\n\u001b[1;32m    545\u001b[0m             \u001b[0;32mreturn\u001b[0m \u001b[0mresult\u001b[0m\u001b[0;34m\u001b[0m\u001b[0;34m\u001b[0m\u001b[0m\n",
      "\u001b[0;32m~/miniconda3/envs/AI/lib/python3.7/urllib/request.py\u001b[0m in \u001b[0;36m_call_chain\u001b[0;34m(self, chain, kind, meth_name, *args)\u001b[0m\n\u001b[1;32m    501\u001b[0m         \u001b[0;32mfor\u001b[0m \u001b[0mhandler\u001b[0m \u001b[0;32min\u001b[0m \u001b[0mhandlers\u001b[0m\u001b[0;34m:\u001b[0m\u001b[0;34m\u001b[0m\u001b[0;34m\u001b[0m\u001b[0m\n\u001b[1;32m    502\u001b[0m             \u001b[0mfunc\u001b[0m \u001b[0;34m=\u001b[0m \u001b[0mgetattr\u001b[0m\u001b[0;34m(\u001b[0m\u001b[0mhandler\u001b[0m\u001b[0;34m,\u001b[0m \u001b[0mmeth_name\u001b[0m\u001b[0;34m)\u001b[0m\u001b[0;34m\u001b[0m\u001b[0;34m\u001b[0m\u001b[0m\n\u001b[0;32m--> 503\u001b[0;31m             \u001b[0mresult\u001b[0m \u001b[0;34m=\u001b[0m \u001b[0mfunc\u001b[0m\u001b[0;34m(\u001b[0m\u001b[0;34m*\u001b[0m\u001b[0margs\u001b[0m\u001b[0;34m)\u001b[0m\u001b[0;34m\u001b[0m\u001b[0;34m\u001b[0m\u001b[0m\n\u001b[0m\u001b[1;32m    504\u001b[0m             \u001b[0;32mif\u001b[0m \u001b[0mresult\u001b[0m \u001b[0;32mis\u001b[0m \u001b[0;32mnot\u001b[0m \u001b[0;32mNone\u001b[0m\u001b[0;34m:\u001b[0m\u001b[0;34m\u001b[0m\u001b[0;34m\u001b[0m\u001b[0m\n\u001b[1;32m    505\u001b[0m                 \u001b[0;32mreturn\u001b[0m \u001b[0mresult\u001b[0m\u001b[0;34m\u001b[0m\u001b[0;34m\u001b[0m\u001b[0m\n",
      "\u001b[0;32m~/miniconda3/envs/AI/lib/python3.7/urllib/request.py\u001b[0m in \u001b[0;36mhttps_open\u001b[0;34m(self, req)\u001b[0m\n\u001b[1;32m   1391\u001b[0m         \u001b[0;32mdef\u001b[0m \u001b[0mhttps_open\u001b[0m\u001b[0;34m(\u001b[0m\u001b[0mself\u001b[0m\u001b[0;34m,\u001b[0m \u001b[0mreq\u001b[0m\u001b[0;34m)\u001b[0m\u001b[0;34m:\u001b[0m\u001b[0;34m\u001b[0m\u001b[0;34m\u001b[0m\u001b[0m\n\u001b[1;32m   1392\u001b[0m             return self.do_open(http.client.HTTPSConnection, req,\n\u001b[0;32m-> 1393\u001b[0;31m                 context=self._context, check_hostname=self._check_hostname)\n\u001b[0m\u001b[1;32m   1394\u001b[0m \u001b[0;34m\u001b[0m\u001b[0m\n\u001b[1;32m   1395\u001b[0m         \u001b[0mhttps_request\u001b[0m \u001b[0;34m=\u001b[0m \u001b[0mAbstractHTTPHandler\u001b[0m\u001b[0;34m.\u001b[0m\u001b[0mdo_request_\u001b[0m\u001b[0;34m\u001b[0m\u001b[0;34m\u001b[0m\u001b[0m\n",
      "\u001b[0;32m~/miniconda3/envs/AI/lib/python3.7/urllib/request.py\u001b[0m in \u001b[0;36mdo_open\u001b[0;34m(self, http_class, req, **http_conn_args)\u001b[0m\n\u001b[1;32m   1350\u001b[0m                           encode_chunked=req.has_header('Transfer-encoding'))\n\u001b[1;32m   1351\u001b[0m             \u001b[0;32mexcept\u001b[0m \u001b[0mOSError\u001b[0m \u001b[0;32mas\u001b[0m \u001b[0merr\u001b[0m\u001b[0;34m:\u001b[0m \u001b[0;31m# timeout error\u001b[0m\u001b[0;34m\u001b[0m\u001b[0;34m\u001b[0m\u001b[0m\n\u001b[0;32m-> 1352\u001b[0;31m                 \u001b[0;32mraise\u001b[0m \u001b[0mURLError\u001b[0m\u001b[0;34m(\u001b[0m\u001b[0merr\u001b[0m\u001b[0;34m)\u001b[0m\u001b[0;34m\u001b[0m\u001b[0;34m\u001b[0m\u001b[0m\n\u001b[0m\u001b[1;32m   1353\u001b[0m             \u001b[0mr\u001b[0m \u001b[0;34m=\u001b[0m \u001b[0mh\u001b[0m\u001b[0;34m.\u001b[0m\u001b[0mgetresponse\u001b[0m\u001b[0;34m(\u001b[0m\u001b[0;34m)\u001b[0m\u001b[0;34m\u001b[0m\u001b[0;34m\u001b[0m\u001b[0m\n\u001b[1;32m   1354\u001b[0m         \u001b[0;32mexcept\u001b[0m\u001b[0;34m:\u001b[0m\u001b[0;34m\u001b[0m\u001b[0;34m\u001b[0m\u001b[0m\n",
      "\u001b[0;31mURLError\u001b[0m: <urlopen error [SSL: CERTIFICATE_VERIFY_FAILED] certificate verify failed: unable to get local issuer certificate (_ssl.c:1091)>"
     ]
    }
   ],
   "source": [
    "monthly_unemployment_us = DatasetCovidUnemploymentUS(\n",
    "    data_dir=data_dir,\n",
    "    download_latest_data=DOWNLOAD_LATEST_DATA).data"
   ]
  },
  {
   "cell_type": "code",
   "execution_count": 38,
   "metadata": {},
   "outputs": [
    {
     "name": "stdout",
     "output_type": "stream",
     "text": [
      "2014\n",
      "7\n",
      "Unemployment data is available between 2014-07-01 and 2024-06-30\n"
     ]
    }
   ],
   "source": [
    "sample_monthly_unemployment = monthly_unemployment_us['California']\n",
    "unemp_year_keys = sorted(sample_monthly_unemployment.keys())\n",
    "unemp_starting_month_key = sorted(sample_monthly_unemployment[unemp_year_keys[0]].keys())[0]\n",
    "unemp_ending_month_key = sorted(sample_monthly_unemployment[unemp_year_keys[-1]].keys())[-1]\n",
    "print(unemp_year_keys[0])\n",
    "print(unemp_ending_month_key)\n",
    "unemp_starting_date = datetime.strptime(\n",
    "    str(unemp_year_keys[0]) + '-' + str(unemp_ending_month_key) + '-1', DATE_FORMAT)\n",
    "unemp_ending_date = datetime.strptime(\n",
    "    str(unemp_year_keys[-1]) + '-' + str(unemp_ending_month_key) + '-1', DATE_FORMAT) - timedelta(1)\n",
    "\n",
    "print(\"Unemployment data is available between {} and {}\".format(datetime.strftime(unemp_starting_date, DATE_FORMAT),\n",
    "                                                                datetime.strftime(unemp_ending_date, DATE_FORMAT)))"
   ]
  },
  {
   "cell_type": "code",
   "execution_count": 39,
   "metadata": {},
   "outputs": [],
   "source": [
    "# Convert this to a daily unemployment dataframe\n",
    "\n",
    "unemployment_df = pd.DataFrame(COMMON_DATE_INDEX, columns=['Date']).set_index('Date')\n",
    "\n",
    "for us_state_name in monthly_unemployment_us.keys():\n",
    "    unemployment_df[us_state_name] = [\n",
    "        monthly_unemployment_us[us_state_name][x.year].get(x.month, np.nan)\n",
    "        for x in unemployment_df.index\n",
    "    ]\n",
    "unemployment_df = unemployment_df[US_STATE_ORDER]"
   ]
  },
  {
   "cell_type": "code",
   "execution_count": 40,
   "metadata": {},
   "outputs": [
    {
     "data": {
      "image/png": "[encoded data removed]",
      "text/plain": [
       "<Figure size 1080x360 with 1 Axes>"
      ]
     },
     "metadata": {
      "needs_background": "light"
     },
     "output_type": "display_data"
    }
   ],
   "source": [
    "## Visualize the unemployment rate for a specified US state\n",
    "# There is likely going to be some unemployment data missing at the tail end, \n",
    "# as the unemployment data isn't updated as frequently as the other data.\n",
    "\n",
    "state = \"California\"\n",
    "unemployment_df[state].plot(figsize=(15,5), x='Date', title=\"Unemployment for {} (%)\".format(state), grid=True);"
   ]
  },
  {
   "cell_type": "markdown",
   "metadata": {},
   "source": [
    "### Unemployment rate -> unemployed (the number of unemployed people)"
   ]
  },
  {
   "cell_type": "code",
   "execution_count": 41,
   "metadata": {},
   "outputs": [],
   "source": [
    "us_state_to_pop_dict = {}\n",
    "for us_state in US_STATE_ORDER:\n",
    "    us_state_to_pop_dict[us_state] = deaths_us_df[deaths_us_df.Province_State==us_state].Population.sum()"
   ]
  },
  {
   "cell_type": "code",
   "execution_count": 42,
   "metadata": {},
   "outputs": [],
   "source": [
    "unemployed_df = unemployment_df.multiply([us_state_to_pop_dict[col]/100.0 for col in unemployment_df.columns])"
   ]
  },
  {
   "cell_type": "markdown",
   "metadata": {},
   "source": [
    "## Saving"
   ]
  },
  {
   "cell_type": "markdown",
   "metadata": {},
   "source": [
    "### Save some of the data processing constants for use within the environment"
   ]
  },
  {
   "cell_type": "code",
   "execution_count": 43,
   "metadata": {},
   "outputs": [],
   "source": [
    "model_constants_dict = {}\n",
    "\n",
    "model_constants_dict[\"DATE_FORMAT\"] = DATE_FORMAT\n",
    "model_constants_dict[\"STRINGENCY_POLICY_KEY\"] = STRINGENCY_POLICY_KEY\n",
    "model_constants_dict[\"NUM_STRINGENCY_LEVELS\"] = int(NUM_STRINGENCY_LEVELS)\n",
    "model_constants_dict[\"SIR_SMOOTHING_STD\"] = SIR_SMOOTHING_STD\n",
    "model_constants_dict[\"SIR_MORTALITY\"] = SIR_MORTALITY\n",
    "model_constants_dict[\"SIR_GAMMA\"] = SIR_GAMMA\n",
    "model_constants_dict[\"US_STATE_IDX_TO_STATE_NAME\"] = {\n",
    "    us_state_idx: us_state for us_state_idx, us_state in enumerate(US_STATE_ORDER)\n",
    "}\n",
    "model_constants_dict[\"US_STATE_POPULATION\"] = [int(us_state_to_pop_dict[us_state]) for us_state in US_STATE_ORDER]\n",
    "model_constants_dict[\"US_POPULATION\"] = int(sum([us_state_to_pop_dict[us_state] for us_state in US_STATE_ORDER]))\n",
    "\n",
    "# 2019: https://data.worldbank.org/indicator/NY.GDP.PCAP.CD?locations=US&view=chart\n",
    "model_constants_dict[\"GDP_PER_CAPITA\"] = 65300  # TODO: Load this in from model_constants.json.\n",
    "\n",
    "model_constants_filename = \"model_constants.json\"\n",
    "with open(os.path.join(data_dir, model_constants_filename), \"w\") as fp: \n",
    "    json.dump(model_constants_dict, fp)"
   ]
  },
  {
   "cell_type": "markdown",
   "metadata": {},
   "source": [
    "### Save all the processed dataframes in order to use for model fitting notebook (fit_model_parameters.ipynb)"
   ]
  },
  {
   "cell_type": "code",
   "execution_count": 44,
   "metadata": {},
   "outputs": [],
   "source": [
    "dataframes = {\n",
    "    \"policy\": policy_df,\n",
    "    \"subsidy\": subsidy_df,\n",
    "    \"quantitative\": quantitative_df,\n",
    "    \"inflation\": inflation_df,\n",
    "    \"fed_fund_rate\": fed_fund_rate_df,\n",
    "    \"us_treasury_yield_long_10_years\": us_treasury_yield_long_10_years,\n",
    "    \"revenue\": us_revenue_df,\n",
    "    \"spending\": us_spending_df,\n",
    "    \"debt\": debt_df,\n",
    "    \"deaths\": deaths_df,\n",
    "    \"vaccinated\": vaccinated_df,\n",
    "    \"smoothed_deaths\": smoothed_deaths_df,\n",
    "    \"susceptible\": susceptible_df,\n",
    "    \"infected\": infected_df,\n",
    "    \"recovered\": recovered_df,\n",
    "    \"beta\": beta_df,\n",
    "    \"unemployment\": unemployment_df,\n",
    "    \"unemployed\": unemployed_df,\n",
    "}\n",
    "\n",
    "for k, df in dataframes.items():\n",
    "    if k == \"subsidy\" or k == \"quantitative\" or k == \"fed_fund_rate\" or k == \"us_treasury_yield_long_10_years\" \\\n",
    "        or k == \"debt\" or k == \"revenue\" or k == \"spending\" or k == \"inflation\":  # This is at the USA level, not at the US states level\n",
    "        continue\n",
    "    assert (df.columns.to_list() == US_STATE_ORDER).all()\n",
    "\n",
    "with open(os.path.join(data_dir, 'dataframes.pkl'), 'wb') as F:\n",
    "    pickle.dump(dataframes, F)"
   ]
  },
  {
   "cell_type": "code",
   "execution_count": 45,
   "metadata": {},
   "outputs": [
    {
     "name": "stdout",
     "output_type": "stream",
     "text": [
      "            Alabama  Alaska  Arizona  Arkansas  California  Colorado  \\\n",
      "Date                                                                   \n",
      "2020-01-01      NaN     NaN      NaN       NaN         NaN       NaN   \n",
      "2020-01-02      NaN     NaN      NaN       NaN         NaN       NaN   \n",
      "2020-01-03      NaN     NaN      NaN       NaN         NaN       NaN   \n",
      "2020-01-04      NaN     NaN      NaN       NaN         NaN       NaN   \n",
      "2020-01-05      NaN     NaN      NaN       NaN         NaN       NaN   \n",
      "...             ...     ...      ...       ...         ...       ...   \n",
      "2022-12-27      NaN     NaN      NaN       NaN         NaN       NaN   \n",
      "2022-12-28      NaN     NaN      NaN       NaN         NaN       NaN   \n",
      "2022-12-29      NaN     NaN      NaN       NaN         NaN       NaN   \n",
      "2022-12-30      NaN     NaN      NaN       NaN         NaN       NaN   \n",
      "2022-12-31      NaN     NaN      NaN       NaN         NaN       NaN   \n",
      "\n",
      "            Connecticut  Delaware  District of Columbia  Florida  ...  \\\n",
      "Date                                                              ...   \n",
      "2020-01-01          NaN       NaN                   NaN      NaN  ...   \n",
      "2020-01-02          NaN       NaN                   NaN      NaN  ...   \n",
      "2020-01-03          NaN       NaN                   NaN      NaN  ...   \n",
      "2020-01-04          NaN       NaN                   NaN      NaN  ...   \n",
      "2020-01-05          NaN       NaN                   NaN      NaN  ...   \n",
      "...                 ...       ...                   ...      ...  ...   \n",
      "2022-12-27          NaN       NaN                   NaN      NaN  ...   \n",
      "2022-12-28          NaN       NaN                   NaN      NaN  ...   \n",
      "2022-12-29          NaN       NaN                   NaN      NaN  ...   \n",
      "2022-12-30          NaN       NaN                   NaN      NaN  ...   \n",
      "2022-12-31          NaN       NaN                   NaN      NaN  ...   \n",
      "\n",
      "            South Dakota  Tennessee  Texas  Utah  Vermont  Virginia  \\\n",
      "Date                                                                  \n",
      "2020-01-01           NaN        NaN    NaN   NaN      NaN       NaN   \n",
      "2020-01-02           NaN        NaN    NaN   NaN      NaN       NaN   \n",
      "2020-01-03           NaN        NaN    NaN   NaN      NaN       NaN   \n",
      "2020-01-04           NaN        NaN    NaN   NaN      NaN       NaN   \n",
      "2020-01-05           NaN        NaN    NaN   NaN      NaN       NaN   \n",
      "...                  ...        ...    ...   ...      ...       ...   \n",
      "2022-12-27           NaN        NaN    NaN   NaN      NaN       NaN   \n",
      "2022-12-28           NaN        NaN    NaN   NaN      NaN       NaN   \n",
      "2022-12-29           NaN        NaN    NaN   NaN      NaN       NaN   \n",
      "2022-12-30           NaN        NaN    NaN   NaN      NaN       NaN   \n",
      "2022-12-31           NaN        NaN    NaN   NaN      NaN       NaN   \n",
      "\n",
      "            Washington  West Virginia  Wisconsin  Wyoming  \n",
      "Date                                                       \n",
      "2020-01-01         NaN            NaN        NaN      NaN  \n",
      "2020-01-02         NaN            NaN        NaN      NaN  \n",
      "2020-01-03         NaN            NaN        NaN      NaN  \n",
      "2020-01-04         NaN            NaN        NaN      NaN  \n",
      "2020-01-05         NaN            NaN        NaN      NaN  \n",
      "...                ...            ...        ...      ...  \n",
      "2022-12-27         NaN            NaN        NaN      NaN  \n",
      "2022-12-28         NaN            NaN        NaN      NaN  \n",
      "2022-12-29         NaN            NaN        NaN      NaN  \n",
      "2022-12-30         NaN            NaN        NaN      NaN  \n",
      "2022-12-31         NaN            NaN        NaN      NaN  \n",
      "\n",
      "[1096 rows x 51 columns]\n"
     ]
    }
   ],
   "source": [
    "print(susceptible_df)"
   ]
  },
  {
   "cell_type": "code",
   "execution_count": 46,
   "metadata": {},
   "outputs": [
    {
     "name": "stdout",
     "output_type": "stream",
     "text": [
      "            USA\n",
      "Date           \n",
      "2020-01-01  0.0\n",
      "2020-01-02  0.0\n",
      "2020-01-03  0.0\n",
      "2020-01-04  0.0\n",
      "2020-01-05  0.0\n",
      "...         ...\n",
      "2022-12-27  0.0\n",
      "2022-12-28  0.0\n",
      "2022-12-29  0.0\n",
      "2022-12-30  0.0\n",
      "2022-12-31  0.0\n",
      "\n",
      "[1096 rows x 1 columns]\n"
     ]
    }
   ],
   "source": [
    "print(quantitative_df)"
   ]
  },
  {
   "cell_type": "markdown",
   "metadata": {},
   "source": [
    "### Also save all the data as numpy arrays for use within the covid19 simulation environment"
   ]
  },
  {
   "cell_type": "code",
   "execution_count": 47,
   "metadata": {},
   "outputs": [],
   "source": [
    "real_world_data = {}\n",
    "for key in dataframes:\n",
    "    real_world_data[key] = dataframes[key].values\n",
    "    \n",
    "# Save the real-world data as a .npz for use within the environment\n",
    "np.savez(os.path.join(data_dir, \"real_world_data.npz\"), **real_world_data)    "
   ]
  },
  {
   "cell_type": "code",
   "execution_count": 48,
   "metadata": {},
   "outputs": [
    {
     "name": "stdout",
     "output_type": "stream",
     "text": [
      "Key:  policy  - size:  1096\n",
      "Key:  policy  - filtered_arr:  [1 1 1 ... 2 2 2]\n",
      "Key:  subsidy  - size:  1096\n",
      "Key:  subsidy  - filtered_arr:  [2.74e+11 1.42e+11 3.86e+11]\n",
      "Key:  quantitative  - size:  1096\n",
      "Key:  quantitative  - filtered_arr:  [5254278. 5811607. 6083141. 6367887. 6573136. 6655929. 6721420. 6934227.\n",
      " 7037258. 7097316. 7165217. 7168936. 7094690. 7082302. 7009040. 6920716.\n",
      " 6958604. 6964755. 6949032. 6945237. 6957277. 7010637. 6990418. 7017492.\n",
      " 7010614. 7064475. 7093161. 7056129. 7074649. 7151426. 7177265. 7146306.\n",
      " 7157479. 7175417. 7243080. 7216480. 7222414. 7242658. 7362592. 7404039.\n",
      " 7363351. 7334809. 7333968. 7414942. 7404926. 7410598. 7442225. 7557402.\n",
      " 7590111. 7557524. 7579901. 7693506. 7719622. 7688988. 7708882. 7793104.\n",
      " 7820948. 7780962. 7810486. 7830663. 7922883. 7903541. 7935703. 7952327.\n",
      " 8064257. 8101945. 8078544. 8097773. 8201651. 8240530. 8221473. 8235073.\n",
      " 8257159. 8342598. 8332743. 8349173. 8357314. 8448770. 8489824. 8447981.\n",
      " 8464032. 8480942. 8564943. 8556181. 8574871. 8663117. 8674970. 8681771.\n",
      " 8650402. 8664524. 8756666. 8790495. 8757460. 8765721. 8788278. 8867834.\n",
      " 8860485. 8873211. 8878009. 8911033. 8928129. 8904455. 8910748. 8954306.\n",
      " 8962474. 8937142. 8937592. 8965487. 8955851. 8939199. 8939972. 8942008.\n",
      " 8945898. 8914281. 8915050. 8918254. 8932420. 8934346. 8913553. 8891851.\n",
      " 8895867. 8899213. 8890004. 8874620. 8879138. 8849762. 8851436. 8826093.\n",
      " 8822401. 8832759. 8816802. 8795567. 8759053. 8758969. 8743922. 8723090.\n",
      " 8676870. 8678886. 8625620. 8621390. 8584576. 8582735. 8583413. 8564411.]\n",
      "Key:  inflation  - size:  1096\n",
      "Key:  inflation  - filtered_arr:  [1.5 0.3 0.1 0.6 1.  1.3 1.4 1.2 1.2 1.4 1.4 1.7 2.6 4.2 5.  5.4 5.4 5.3\n",
      " 5.4 6.2 6.8 7.  7.5 7.9 8.5 8.3 8.6 9.1 8.5 8.3 8.2 7.7 7.1 6.5]\n",
      "Key:  fed_fund_rate  - size:  1100\n",
      "Key:  fed_fund_rate  - filtered_arr:  [0.25 0.5  1.   1.75 2.5  3.25 4.   4.5  4.75 5.   5.25 5.5 ]\n",
      "Key:  us_treasury_yield_long_10_years  - size:  1096\n",
      "Key:  us_treasury_yield_long_10_years  - filtered_arr:  [1.92 0.96 1.63]\n",
      "Key:  revenue  - size:  1096\n",
      "Key:  revenue  - filtered_arr:  [3.4e+12 3.4e+12 4.0e+12]\n",
      "Key:  spending  - size:  1096\n",
      "Key:  spending  - filtered_arr:  [4.47e+12 6.55e+12 6.80e+12]\n",
      "Key:  debt  - size:  1096\n",
      "Key:  debt  - filtered_arr:  [2.36868710e+13 2.49741719e+13 2.57462604e+13 2.64772406e+13\n",
      " 2.65249529e+13 2.67288358e+13 2.69453912e+13 2.71354767e+13\n",
      " 2.74462882e+13 2.77477975e+13 2.77845526e+13 2.79023641e+13\n",
      " 2.81325700e+13 2.81747143e+13 2.81990077e+13 2.85294361e+13\n",
      " 2.84277216e+13 2.84273168e+13 2.84289191e+13 2.89087649e+13\n",
      " 2.89079875e+13 2.96172145e+13 3.00123857e+13 3.02903533e+13\n",
      " 3.04009596e+13 3.03741552e+13 3.04996192e+13 3.05685817e+13\n",
      " 3.05951086e+13 3.09360752e+13 3.09289116e+13 3.12383012e+13\n",
      " 3.14133224e+13 3.14196894e+13]\n",
      "Key:  deaths  - size:  1096\n",
      "Key:  deaths  - filtered_arr:  [   nan    nan    nan ...  7672. 15802.  1958.]\n",
      "Key:  vaccinated  - size:  1096\n",
      "Key:  vaccinated  - filtered_arr:  [   7270.            5400.            8343.         ... 1067516.42857143\n",
      " 3958455.42857143  306358.42857143]\n",
      "Key:  smoothed_deaths  - size:  1096\n",
      "Key:  smoothed_deaths  - filtered_arr:  [nan nan nan ... nan nan nan]\n",
      "Key:  susceptible  - size:  1096\n",
      "Key:  susceptible  - filtered_arr:  [nan nan nan ... nan nan nan]\n",
      "Key:  infected  - size:  1096\n",
      "Key:  infected  - filtered_arr:  [nan nan nan ... nan nan nan]\n",
      "Key:  recovered  - size:  1096\n",
      "Key:  recovered  - filtered_arr:  [nan nan nan ... nan nan nan]\n",
      "Key:  beta  - size:  1096\n",
      "Key:  beta  - filtered_arr:  [nan nan nan ... nan nan nan]\n",
      "Key:  unemployment  - size:  1096\n",
      "Key:  unemployment  - filtered_arr:  [3.2 5.4 4.8 ... 3.7 2.7 3.4]\n",
      "Key:  unemployed  - size:  1096\n",
      "Key:  unemployed  - filtered_arr:  [156901.92   40013.73  349378.416 ...  66309.439 157205.718  19677.806]\n"
     ]
    }
   ],
   "source": [
    "real_world_data = {}\n",
    "for key in dataframes:\n",
    "    real_world_data[key] = dataframes[key].values\n",
    "    value = dataframes[key].values\n",
    "    filtered_arr = value[value != 0]\n",
    "    print(\"Key: \", key, \" - size: \", len(dataframes[key].values))\n",
    "    print(\"Key: \", key, \" - filtered_arr: \", filtered_arr)"
   ]
  },
  {
   "cell_type": "markdown",
   "metadata": {},
   "source": [
    "## Finally, in order to use this gathered real-world data when you run the covid19 simulation, you will need to also"
   ]
  },
  {
   "cell_type": "markdown",
   "metadata": {},
   "source": [
    "### 1. Run the \"fit_model_parameters.ipynb\" notebook with the base data directory specified below."
   ]
  },
  {
   "cell_type": "code",
   "execution_count": 49,
   "metadata": {},
   "outputs": [
    {
     "name": "stdout",
     "output_type": "stream",
     "text": [
      "BASE_DATA_DIR_PATH = '/home/ubuntu/ai-economist/ai_economist/datasets/covid19_datasets'\n"
     ]
    }
   ],
   "source": [
    "print(\"BASE_DATA_DIR_PATH = '{}'\".format(BASE_DATA_DIR_PATH))"
   ]
  },
  {
   "cell_type": "markdown",
   "metadata": {},
   "source": [
    "### 2. Set \"path_to_data_and_fitted_params\" in the env config also to the data directory below."
   ]
  },
  {
   "cell_type": "code",
   "execution_count": 50,
   "metadata": {},
   "outputs": [
    {
     "name": "stdout",
     "output_type": "stream",
     "text": [
      "path_to_data_and_fitted_params = '/home/ubuntu/ai-economist/ai_economist/datasets/covid19_datasets/2024-09-16'\n"
     ]
    }
   ],
   "source": [
    "print(\"path_to_data_and_fitted_params = '{}'\".format(data_dir))"
   ]
  }
 ],
 "metadata": {
  "kernelspec": {
   "display_name": "AI",
   "language": "python",
   "name": "python3"
  },
  "language_info": {
   "codemirror_mode": {
    "name": "ipython",
    "version": 3
   },
   "file_extension": ".py",
   "mimetype": "text/x-python",
   "name": "python",
   "nbconvert_exporter": "python",
   "pygments_lexer": "ipython3",
   "version": "3.7.16"
  }
 },
 "nbformat": 4,
 "nbformat_minor": 4
}
